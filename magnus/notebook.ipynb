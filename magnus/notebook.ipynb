{
 "cells": [
  {
   "cell_type": "markdown",
   "metadata": {},
   "source": [
    "# IT3212 - Assignment 2\n",
    "\n",
    "## Setup"
   ]
  },
  {
   "cell_type": "code",
   "execution_count": 96,
   "metadata": {},
   "outputs": [],
   "source": [
    "import pandas as pd\n",
    "\n",
    "filepath = '../data/disaster-tweets.csv'\n",
    "df = pd.read_csv(filepath, encoding='ISO-8859-1')"
   ]
  },
  {
   "cell_type": "markdown",
   "metadata": {},
   "source": [
    "## 1. Implement the preprocessing\n",
    "\n",
    "### 1.1 Removing data"
   ]
  },
  {
   "cell_type": "code",
   "execution_count": 97,
   "metadata": {},
   "outputs": [
    {
     "name": "stdout",
     "output_type": "stream",
     "text": [
      "Index(['choose_one', 'choose_one:confidence', 'keyword', 'location', 'text'], dtype='object')\n"
     ]
    }
   ],
   "source": [
    "# Only keep the columns we need\n",
    "original_features = [\n",
    "  '_unit_id', '_golden', '_unit_state', '_trusted_judgments',\n",
    "  '_last_judgment_at', 'choose_one', 'choose_one:confidence',\n",
    "  'choose_one_gold', 'keyword', 'location', 'text', 'tweetid', 'userid'\n",
    "  ]\n",
    "features_to_keep = ['choose_one', 'choose_one:confidence', 'keyword', 'location', 'text']\n",
    "df = df[features_to_keep]\n",
    "print(df.columns)\n",
    "\n",
    "# Remove rows with a confidence score less than 1.0\n",
    "confidence_threshold = 1.0\n",
    "df = df[df['choose_one:confidence'] >= confidence_threshold]\n",
    "\n",
    "# Write the updated dataframe to a new CSV file\n",
    "df.to_csv('./results/01-remove-features.csv', index=False)"
   ]
  },
  {
   "cell_type": "markdown",
   "metadata": {},
   "source": [
    "### 1.2 Text processing"
   ]
  },
  {
   "cell_type": "code",
   "execution_count": 98,
   "metadata": {},
   "outputs": [],
   "source": [
    "from urllib.parse import unquote\n",
    "\n",
    "# Clean `keyword` column.\n",
    "def clean_keyword(keyword: str):\n",
    "    return unquote(keyword) if pd.notnull(keyword) else ''\n",
    "\n",
    "df['keyword'] = df['keyword'].apply(clean_keyword)\n",
    "\n",
    "# Write the updated dataframe to a new CSV file\n",
    "df.to_csv('./results/02-clean-keywords.csv', index=False)\n"
   ]
  },
  {
   "cell_type": "code",
   "execution_count": 99,
   "metadata": {},
   "outputs": [],
   "source": [
    "# Remove links from the `text` column\n",
    "import string\n",
    "import re\n",
    "\n",
    "\n",
    "def clean_text(text: str):\n",
    "  text = re.sub(r'https?://\\S+', '', text)  # Remove link\n",
    "  text = re.sub(r'\\n', ' ', text)  # Remove line breaks\n",
    "  # Remove leading, trailing, and extra spaces\n",
    "  text = re.sub('\\s+', ' ', text).strip()\n",
    "  return text\n",
    "\n",
    "\n",
    "df['cleaned_text'] = df['text'].apply(lambda x: clean_text(x))\n",
    "\n",
    "# Remove punctuation from the `text` column\n",
    "df['cleaned_text'] = df['text'].apply(lambda x: x.translate(\n",
    "    str.maketrans('', '', string.punctuation)))\n",
    "\n",
    "# Write the updated dataframe to a new CSV file\n",
    "df.to_csv('./results/03-clean-text.csv', index=False)\n"
   ]
  },
  {
   "cell_type": "code",
   "execution_count": 100,
   "metadata": {},
   "outputs": [
    {
     "name": "stderr",
     "output_type": "stream",
     "text": [
      "[nltk_data] Downloading package stopwords to\n",
      "[nltk_data]     /Users/magnusrodseth/nltk_data...\n",
      "[nltk_data]   Package stopwords is already up-to-date!\n"
     ]
    }
   ],
   "source": [
    "# Remove English stopwords\n",
    "import nltk\n",
    "\n",
    "nltk.download('stopwords')\n",
    "from nltk.corpus import stopwords\n",
    "\n",
    "stop_words = stopwords.words('english')\n",
    "\n",
    "# Clean `text` column.\n",
    "def clean_text(text: str):\n",
    "    text = text.lower()\n",
    "    text = ' '.join([word for word in text.split() if word not in stop_words])\n",
    "    return text\n",
    "\n",
    "\n",
    "df['cleaned_text'] = df['text'].apply(clean_text)\n",
    "\n",
    "# Write the updated dataframe to a new CSV file\n",
    "df.to_csv('./results/04-without-stopwords.csv', index=False)"
   ]
  },
  {
   "cell_type": "code",
   "execution_count": 101,
   "metadata": {},
   "outputs": [
    {
     "name": "stderr",
     "output_type": "stream",
     "text": [
      "[nltk_data] Downloading package wordnet to\n",
      "[nltk_data]     /Users/magnusrodseth/nltk_data...\n",
      "[nltk_data]   Package wordnet is already up-to-date!\n"
     ]
    }
   ],
   "source": [
    "# Lemmatizing the `text` column\n",
    "nltk.download('wordnet')\n",
    "from nltk.stem import WordNetLemmatizer\n",
    "\n",
    "lemmatizer = WordNetLemmatizer()\n",
    "\n",
    "# Clean `text` column.\n",
    "def clean_text(text: str):\n",
    "    text = ' '.join([lemmatizer.lemmatize(word) for word in text.split()])\n",
    "    return text\n",
    "\n",
    "\n",
    "df['cleaned_text'] = df['text'].apply(clean_text)\n",
    "\n",
    "# Write the updated dataframe to a new CSV file\n",
    "df.to_csv('./results/05-lemmatized.csv', index=False)\n"
   ]
  },
  {
   "cell_type": "code",
   "execution_count": 102,
   "metadata": {},
   "outputs": [],
   "source": [
    "# Remove special characters\n",
    "def clean_text(text: str):\n",
    "    text = re.sub(r'[^a-zA-Z0-9\\s]', '', text)\n",
    "    return text\n",
    "\n",
    "df['cleaned_text'] = df['text'].apply(clean_text)\n",
    "\n",
    "# Write the updated dataframe to a new CSV file\n",
    "df.to_csv('./results/06-without-special-chars.csv', index=False)"
   ]
  },
  {
   "cell_type": "markdown",
   "metadata": {},
   "source": [
    "### 1.3 Handling categorical data"
   ]
  },
  {
   "cell_type": "code",
   "execution_count": 103,
   "metadata": {},
   "outputs": [],
   "source": [
    "# Remove rows with `choose_one` value of `Can't Decide`\n",
    "df = df[df['choose_one'] != \"Can't Decide\"]\n",
    "\n",
    "# Replace the `choose_one` column with a new column called `target`, where `Relevant` is `1` and `Not Relevant` is `0`\n",
    "df['target'] = df['choose_one'].apply(lambda x: 1 if x == 'Relevant' else 0)\n",
    "\n",
    "# Write the updated dataframe to a new CSV file\n",
    "df.to_csv('./results/07-with-target-variable.csv', index=False)"
   ]
  },
  {
   "cell_type": "markdown",
   "metadata": {},
   "source": [
    "### 1.4 Duplicated data"
   ]
  },
  {
   "cell_type": "code",
   "execution_count": 106,
   "metadata": {},
   "outputs": [
    {
     "name": "stdout",
     "output_type": "stream",
     "text": [
      "  choose_one  choose_one:confidence keyword location  \\\n",
      "0   Relevant                    1.0              NaN   \n",
      "1   Relevant                    1.0              NaN   \n",
      "2   Relevant                    1.0              NaN   \n",
      "4   Relevant                    1.0              NaN   \n",
      "5   Relevant                    1.0              NaN   \n",
      "\n",
      "                                                text  \\\n",
      "0                 Just happened a terrible car crash   \n",
      "1  Our Deeds are the Reason of this #earthquake M...   \n",
      "2  Heard about #earthquake is different cities, s...   \n",
      "4             Forest fire near La Ronge Sask. Canada   \n",
      "5  All residents asked to 'shelter in place' are ...   \n",
      "\n",
      "                                        cleaned_text  target  \n",
      "0                 Just happened a terrible car crash       1  \n",
      "1  Our Deeds are the Reason of this earthquake Ma...       1  \n",
      "2  Heard about earthquake is different cities sta...       1  \n",
      "4              Forest fire near La Ronge Sask Canada       1  \n",
      "5  All residents asked to shelter in place are be...       1  \n"
     ]
    }
   ],
   "source": [
    "# Remove duplicated rows with respect to the `text` column\n",
    "df = df.drop_duplicates(subset=['text'])\n",
    "\n",
    "print(df.head())\n",
    "\n",
    "# Write the updated dataframe to a new CSV file\n",
    "df.to_csv('./results/08-without-duplicates-in-text.csv', index=False)"
   ]
  },
  {
   "cell_type": "markdown",
   "metadata": {},
   "source": [
    "## 2. Extracting features\n",
    "\n",
    "> TODO: Extract features from the preprocessed data"
   ]
  },
  {
   "cell_type": "markdown",
   "metadata": {},
   "source": [
    "## 3. Selecting features\n",
    "\n",
    "> TODO: Select features from the extracted features"
   ]
  },
  {
   "cell_type": "markdown",
   "metadata": {},
   "source": [
    "## 4. Implement basic modelling methods"
   ]
  }
 ],
 "metadata": {
  "kernelspec": {
   "display_name": "base",
   "language": "python",
   "name": "python3"
  },
  "language_info": {
   "codemirror_mode": {
    "name": "ipython",
    "version": 3
   },
   "file_extension": ".py",
   "mimetype": "text/x-python",
   "name": "python",
   "nbconvert_exporter": "python",
   "pygments_lexer": "ipython3",
   "version": "3.11.4"
  },
  "orig_nbformat": 4
 },
 "nbformat": 4,
 "nbformat_minor": 2
}
