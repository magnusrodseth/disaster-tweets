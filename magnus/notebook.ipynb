{
 "cells": [
  {
   "cell_type": "markdown",
   "metadata": {},
   "source": [
    "# IT3212 - Assignment 2\n",
    "\n",
    "## Setup"
   ]
  },
  {
   "cell_type": "code",
   "execution_count": 107,
   "metadata": {},
   "outputs": [],
   "source": [
    "import pandas as pd\n",
    "\n",
    "filepath = '../data/disaster-tweets.csv'\n",
    "df = pd.read_csv(filepath, encoding='ISO-8859-1')"
   ]
  },
  {
   "cell_type": "markdown",
   "metadata": {},
   "source": [
    "## 1. Implement the preprocessing\n",
    "\n",
    "### 1.1 Removing data"
   ]
  },
  {
   "cell_type": "code",
   "execution_count": 108,
   "metadata": {},
   "outputs": [
    {
     "name": "stdout",
     "output_type": "stream",
     "text": [
      "Index(['choose_one', 'choose_one:confidence', 'keyword', 'location', 'text'], dtype='object')\n"
     ]
    }
   ],
   "source": [
    "# Only keep the columns we need\n",
    "original_features = [\n",
    "  '_unit_id', '_golden', '_unit_state', '_trusted_judgments',\n",
    "  '_last_judgment_at', 'choose_one', 'choose_one:confidence',\n",
    "  'choose_one_gold', 'keyword', 'location', 'text', 'tweetid', 'userid'\n",
    "  ]\n",
    "features_to_keep = ['choose_one', 'choose_one:confidence', 'keyword', 'location', 'text']\n",
    "df = df[features_to_keep]\n",
    "print(df.columns)\n",
    "\n",
    "# Remove rows with a confidence score less than 1.0\n",
    "confidence_threshold = 1.0\n",
    "df = df[df['choose_one:confidence'] >= confidence_threshold]\n",
    "\n",
    "# Write the updated dataframe to a new CSV file\n",
    "df.to_csv('./results/01-remove-features.csv', index=False)"
   ]
  },
  {
   "cell_type": "markdown",
   "metadata": {},
   "source": [
    "### 1.2 Text processing"
   ]
  },
  {
   "cell_type": "code",
   "execution_count": 109,
   "metadata": {},
   "outputs": [],
   "source": [
    "from urllib.parse import unquote\n",
    "\n",
    "# Clean `keyword` column.\n",
    "def clean_keyword(keyword: str):\n",
    "    return unquote(keyword) if pd.notnull(keyword) else ''\n",
    "\n",
    "df['keyword'] = df['keyword'].apply(clean_keyword)\n",
    "\n",
    "# Write the updated dataframe to a new CSV file\n",
    "df.to_csv('./results/02-clean-keywords.csv', index=False)\n"
   ]
  },
  {
   "cell_type": "code",
   "execution_count": 110,
   "metadata": {},
   "outputs": [],
   "source": [
    "# Remove links from the `text` column\n",
    "import string\n",
    "import re\n",
    "\n",
    "\n",
    "def clean_text(text: str):\n",
    "  text = re.sub(r'https?://\\S+', '', text)  # Remove link\n",
    "  text = re.sub(r'\\n', ' ', text)  # Remove line breaks\n",
    "  # Remove leading, trailing, and extra spaces\n",
    "  text = re.sub('\\s+', ' ', text).strip()\n",
    "  return text\n",
    "\n",
    "\n",
    "df['cleaned_text'] = df['text'].apply(lambda x: clean_text(x))\n",
    "\n",
    "# Remove punctuation from the `text` column\n",
    "df['cleaned_text'] = df['text'].apply(lambda x: x.translate(\n",
    "    str.maketrans('', '', string.punctuation)))\n",
    "\n",
    "# Write the updated dataframe to a new CSV file\n",
    "df.to_csv('./results/03-clean-text.csv', index=False)\n"
   ]
  },
  {
   "cell_type": "code",
   "execution_count": 111,
   "metadata": {},
   "outputs": [
    {
     "name": "stderr",
     "output_type": "stream",
     "text": [
      "[nltk_data] Downloading package stopwords to\n",
      "[nltk_data]     /Users/magnusrodseth/nltk_data...\n",
      "[nltk_data]   Package stopwords is already up-to-date!\n"
     ]
    }
   ],
   "source": [
    "# Remove English stopwords\n",
    "import nltk\n",
    "\n",
    "nltk.download('stopwords')\n",
    "from nltk.corpus import stopwords\n",
    "\n",
    "stop_words = stopwords.words('english')\n",
    "\n",
    "# Clean `text` column.\n",
    "def clean_text(text: str):\n",
    "    text = text.lower()\n",
    "    text = ' '.join([word for word in text.split() if word not in stop_words])\n",
    "    return text\n",
    "\n",
    "\n",
    "df['cleaned_text'] = df['text'].apply(clean_text)\n",
    "\n",
    "# Write the updated dataframe to a new CSV file\n",
    "df.to_csv('./results/04-without-stopwords.csv', index=False)"
   ]
  },
  {
   "cell_type": "code",
   "execution_count": 112,
   "metadata": {},
   "outputs": [
    {
     "name": "stderr",
     "output_type": "stream",
     "text": [
      "[nltk_data] Downloading package wordnet to\n",
      "[nltk_data]     /Users/magnusrodseth/nltk_data...\n",
      "[nltk_data]   Package wordnet is already up-to-date!\n"
     ]
    }
   ],
   "source": [
    "# Lemmatizing the `text` column\n",
    "nltk.download('wordnet')\n",
    "from nltk.stem import WordNetLemmatizer\n",
    "\n",
    "lemmatizer = WordNetLemmatizer()\n",
    "\n",
    "# Clean `text` column.\n",
    "def clean_text(text: str):\n",
    "    text = ' '.join([lemmatizer.lemmatize(word) for word in text.split()])\n",
    "    return text\n",
    "\n",
    "\n",
    "df['cleaned_text'] = df['text'].apply(clean_text)\n",
    "\n",
    "# Write the updated dataframe to a new CSV file\n",
    "df.to_csv('./results/05-lemmatized.csv', index=False)\n"
   ]
  },
  {
   "cell_type": "code",
   "execution_count": 113,
   "metadata": {},
   "outputs": [],
   "source": [
    "# Remove special characters\n",
    "def clean_text(text: str):\n",
    "    text = re.sub(r'[^a-zA-Z0-9\\s]', '', text)\n",
    "    return text\n",
    "\n",
    "df['cleaned_text'] = df['text'].apply(clean_text)\n",
    "\n",
    "# Write the updated dataframe to a new CSV file\n",
    "df.to_csv('./results/06-without-special-chars.csv', index=False)"
   ]
  },
  {
   "cell_type": "markdown",
   "metadata": {},
   "source": [
    "### 1.3 Handling categorical data"
   ]
  },
  {
   "cell_type": "code",
   "execution_count": 114,
   "metadata": {},
   "outputs": [],
   "source": [
    "# Remove rows with `choose_one` value of `Can't Decide`\n",
    "df = df[df['choose_one'] != \"Can't Decide\"]\n",
    "\n",
    "# Replace the `choose_one` column with a new column called `target`, where `Relevant` is `1` and `Not Relevant` is `0`\n",
    "df['target'] = df['choose_one'].apply(lambda x: 1 if x == 'Relevant' else 0)\n",
    "\n",
    "# Write the updated dataframe to a new CSV file\n",
    "df.to_csv('./results/07-with-target-variable.csv', index=False)"
   ]
  },
  {
   "cell_type": "markdown",
   "metadata": {},
   "source": [
    "### 1.4 Duplicated data"
   ]
  },
  {
   "cell_type": "code",
   "execution_count": 115,
   "metadata": {},
   "outputs": [
    {
     "name": "stdout",
     "output_type": "stream",
     "text": [
      "  choose_one  choose_one:confidence keyword location  \\\n",
      "0   Relevant                    1.0              NaN   \n",
      "1   Relevant                    1.0              NaN   \n",
      "2   Relevant                    1.0              NaN   \n",
      "4   Relevant                    1.0              NaN   \n",
      "5   Relevant                    1.0              NaN   \n",
      "\n",
      "                                                text  \\\n",
      "0                 Just happened a terrible car crash   \n",
      "1  Our Deeds are the Reason of this #earthquake M...   \n",
      "2  Heard about #earthquake is different cities, s...   \n",
      "4             Forest fire near La Ronge Sask. Canada   \n",
      "5  All residents asked to 'shelter in place' are ...   \n",
      "\n",
      "                                        cleaned_text  target  \n",
      "0                 Just happened a terrible car crash       1  \n",
      "1  Our Deeds are the Reason of this earthquake Ma...       1  \n",
      "2  Heard about earthquake is different cities sta...       1  \n",
      "4              Forest fire near La Ronge Sask Canada       1  \n",
      "5  All residents asked to shelter in place are be...       1  \n"
     ]
    }
   ],
   "source": [
    "# Remove duplicated rows with respect to the `text` column\n",
    "df = df.drop_duplicates(subset=['text'])\n",
    "\n",
    "print(df.head())\n",
    "\n",
    "# Write the updated dataframe to a new CSV file\n",
    "df.to_csv('./results/08-without-duplicates-in-text.csv', index=False)"
   ]
  },
  {
   "cell_type": "markdown",
   "metadata": {},
   "source": [
    "## 2. Extracting features\n",
    "\n",
    "> TODO: Extract features from the preprocessed data"
   ]
  },
  {
   "cell_type": "markdown",
   "metadata": {},
   "source": [
    "## 3. Selecting features\n",
    "\n",
    "> TODO: Select features from the extracted features"
   ]
  },
  {
   "cell_type": "markdown",
   "metadata": {},
   "source": [
    "## 4. Implement basic modelling methods"
   ]
  },
  {
   "cell_type": "code",
   "execution_count": 116,
   "metadata": {},
   "outputs": [],
   "source": [
    "from sklearn.model_selection import train_test_split\n",
    "\n",
    "# Using TF-IDF Vectorizer for 'cleaned_text' column\n",
    "from sklearn.feature_extraction.text import TfidfVectorizer\n",
    "\n",
    "vectorizer = TfidfVectorizer(max_features=1000)\n",
    "X_text = vectorizer.fit_transform(df['cleaned_text'])\n",
    "\n",
    "# Assuming y is your target variable & X_text is your feature\n",
    "y = df['target']\n",
    "\n",
    "# Split data into training and test sets\n",
    "x_train, x_test, y_train, y_test = train_test_split(X_text, y, test_size=0.3, random_state=42)"
   ]
  },
  {
   "cell_type": "markdown",
   "metadata": {},
   "source": [
    "\n",
    "### 4.1 Logistic regression"
   ]
  },
  {
   "cell_type": "code",
   "execution_count": 117,
   "metadata": {},
   "outputs": [
    {
     "name": "stdout",
     "output_type": "stream",
     "text": [
      "Accuracy: 0.9082998661311914\n",
      "Classification Report: \n",
      "               precision    recall  f1-score   support\n",
      "\n",
      "           0       0.90      0.95      0.92       847\n",
      "           1       0.93      0.86      0.89       647\n",
      "\n",
      "    accuracy                           0.91      1494\n",
      "   macro avg       0.91      0.90      0.91      1494\n",
      "weighted avg       0.91      0.91      0.91      1494\n",
      "\n",
      "Confusion Matrix: \n",
      " [[803  44]\n",
      " [ 93 554]]\n"
     ]
    },
    {
     "data": {
      "image/png": "[encoded data removed]",
      "text/plain": [
       "<Figure size 640x480 with 1 Axes>"
      ]
     },
     "metadata": {},
     "output_type": "display_data"
    }
   ],
   "source": [
    "from sklearn.linear_model import LogisticRegression\n",
    "from sklearn.metrics import accuracy_score, classification_report, confusion_matrix\n",
    "import matplotlib.pyplot as plt\n",
    "from sklearn.metrics import roc_curve, auc\n",
    "\n",
    "# Initialize Logistic Regression Model\n",
    "logreg = LogisticRegression(random_state=42)\n",
    "\n",
    "# Fit the model\n",
    "logreg.fit(x_train, y_train)\n",
    "\n",
    "# Predictions\n",
    "y_pred = logreg.predict(x_test)\n",
    "\n",
    "# Accuracy\n",
    "print(f\"Accuracy: {accuracy_score(y_test, y_pred)}\")\n",
    "\n",
    "# Classification Report\n",
    "print(f\"Classification Report: \\n {classification_report(y_test, y_pred)}\")\n",
    "\n",
    "# Confusion Matrix\n",
    "print(f\"Confusion Matrix: \\n {confusion_matrix(y_test, y_pred)}\")\n",
    "\n",
    "# Compute ROC curve\n",
    "fpr, tpr, thresholds = roc_curve(y_test, logreg.predict_proba(x_test)[:, 1])\n",
    "roc_auc = auc(fpr, tpr)\n",
    "\n",
    "# Plot ROC curve\n",
    "plt.figure()\n",
    "plt.plot(fpr, tpr, label='ROC curve (area = %0.2f)' % roc_auc)\n",
    "plt.plot([0, 1], [0, 1], 'k--')\n",
    "plt.xlim([0.0, 1.0])\n",
    "plt.ylim([0.0, 1.0])\n",
    "plt.xlabel('False Positive Rate')\n",
    "plt.ylabel('True Positive Rate')\n",
    "plt.title('Receiver Operating Characteristic')\n",
    "plt.legend(loc=\"lower right\")\n",
    "plt.show()\n"
   ]
  }
 ],
 "metadata": {
  "kernelspec": {
   "display_name": "base",
   "language": "python",
   "name": "python3"
  },
  "language_info": {
   "codemirror_mode": {
    "name": "ipython",
    "version": 3
   },
   "file_extension": ".py",
   "mimetype": "text/x-python",
   "name": "python",
   "nbconvert_exporter": "python",
   "pygments_lexer": "ipython3",
   "version": "3.11.4"
  },
  "orig_nbformat": 4
 },
 "nbformat": 4,
 "nbformat_minor": 2
}
