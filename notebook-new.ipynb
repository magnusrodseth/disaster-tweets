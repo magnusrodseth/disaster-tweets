{
 "cells": [
  {
   "cell_type": "markdown",
   "metadata": {},
   "source": [
    "# IT3212 - Assignment 2\n",
    "\n",
    "## Setup"
   ]
  },
  {
   "cell_type": "markdown",
   "metadata": {},
   "source": [
    "### Importing libraries"
   ]
  },
  {
   "cell_type": "code",
   "execution_count": 193,
   "metadata": {},
   "outputs": [],
   "source": [
    "# Standard libraries\n",
    "import numpy as np  \n",
    "import pandas as pd\n",
    "import re\n",
    "import string\n",
    "\n",
    "# NLTK tools and datasets\n",
    "import nltk\n",
    "from nltk.tokenize import word_tokenize, TweetTokenizer\n",
    "from nltk.stem import WordNetLemmatizer\n",
    "from nltk.corpus import stopwords\n",
    "from nltk.util import ngrams\n",
    "from nltk.sentiment.vader import SentimentIntensityAnalyzer\n",
    "\n",
    "# Uncomment if you need to download NLTK data packages\n",
    "# nltk.download('stopwords')\n",
    "# nltk.download('wordnet')\n",
    "# nltk.download('vader_lexicon')\n",
    "\n",
    "# Visualizations\n",
    "import matplotlib.pyplot as plt\n",
    "import seaborn as sns\n",
    "\n",
    "# Machine learning\n",
    "from sklearn.model_selection import train_test_split, GridSearchCV\n",
    "from sklearn.feature_extraction.text import TfidfVectorizer\n",
    "from sklearn.svm import SVC\n",
    "from sklearn.linear_model import LogisticRegression\n",
    "from sklearn.metrics import accuracy_score, classification_report, confusion_matrix, roc_curve, auc\n",
    "\n",
    "# Miscellaneous\n",
    "from collections import Counter\n",
    "from urllib.parse import unquote\n",
    "from textblob import TextBlob\n",
    "import contractions\n",
    "from scipy import stats\n",
    "import chardet"
   ]
  },
  {
   "cell_type": "markdown",
   "metadata": {},
   "source": [
    "### Fix dataset encoding issues"
   ]
  },
  {
   "cell_type": "code",
   "execution_count": 194,
   "metadata": {},
   "outputs": [],
   "source": [
    "# Some rows in the raw data include non UTF-8 characters. \n",
    "\n",
    "# Example of text with non UTF-8 characters:\n",
    "# 778245336,FALSE,finalized,5,8/30/15 13:27,Not Relevant,0.7952,,army,\n",
    "# text column: Pakistan,\".: .: .: .: .: .: .: .: .: .: .: .: .: .: .: .: .: .: .: .: .: RT DrAyesha4: #IndiaKoMunTorJawabDo Indian Army ki��_ http://t.co/WJLJq3yA4g\"\n",
    "# ,6.29079E+17,195397186\n",
    "\n",
    "# Chardet identifies the encoding of the raw data as 'MacRoman'.\n",
    "# For now, we will remove all non UTF-8 characters from the raw data\n",
    "# We handle this by removing all � characters from the raw data and writing the modified content back to the file.\n",
    "\n",
    "def fix_non_utf8_encoding(filepath, destination_filepath):\n",
    "    with open(filepath, 'rb') as file:\n",
    "        rawdata = file.read()\n",
    "        result = chardet.detect(rawdata)\n",
    "        print(result['encoding'])\n",
    "\n",
    "\n",
    "    # Open the file in read mode, read its contents, then close it\n",
    "    with open('data/disaster-tweets.csv', 'r', encoding='utf-8', errors='ignore') as file:\n",
    "        content = file.read()\n",
    "\n",
    "    # Remove all � characters\n",
    "    content = content.replace('�', '')\n",
    "\n",
    "    # Open the file in write mode and write the modified content back to it\n",
    "    with open(destination_filepath, 'w', encoding='utf-8') as file:\n",
    "        file.write(content)\n",
    "\n",
    "filepath = 'data/disaster-tweets.csv'\n",
    "dest = 'data/disaster-tweets-utf8.csv'\n",
    "\n",
    "# fix_non_utf8_encoding(filepath, dest)"
   ]
  },
  {
   "cell_type": "code",
   "execution_count": 195,
   "metadata": {},
   "outputs": [],
   "source": [
    "def split_train_test(filepath, destination_filepath_train, destination_filepath_test):\n",
    "    df = pd.read_csv(filepath, encoding='utf-8')\n",
    "    train_data, test_data = train_test_split(df, test_size=0.2, random_state=42)\n",
    "    train_data = train_data.reset_index(drop=True)\n",
    "    test_data = test_data.reset_index(drop=True)\n",
    "    train_data.to_csv(destination_filepath_train, index=False)\n",
    "    test_data.to_csv(destination_filepath_test, index=False)\n",
    "\n",
    "filepath = 'data/disaster-tweets-utf8.csv'\n",
    "dest_train = 'data/train.csv'\n",
    "dest_test = 'data/test.csv'\n",
    "\n",
    "# split_train_test(filepath, dest_train, dest_test)"
   ]
  },
  {
   "cell_type": "code",
   "execution_count": 196,
   "metadata": {},
   "outputs": [
    {
     "data": {
      "text/html": [
       "<div>\n",
       "<style scoped>\n",
       "    .dataframe tbody tr th:only-of-type {\n",
       "        vertical-align: middle;\n",
       "    }\n",
       "\n",
       "    .dataframe tbody tr th {\n",
       "        vertical-align: top;\n",
       "    }\n",
       "\n",
       "    .dataframe thead th {\n",
       "        text-align: right;\n",
       "    }\n",
       "</style>\n",
       "<table border=\"1\" class=\"dataframe\">\n",
       "  <thead>\n",
       "    <tr style=\"text-align: right;\">\n",
       "      <th></th>\n",
       "      <th>_unit_id</th>\n",
       "      <th>_golden</th>\n",
       "      <th>_unit_state</th>\n",
       "      <th>_trusted_judgments</th>\n",
       "      <th>_last_judgment_at</th>\n",
       "      <th>choose_one</th>\n",
       "      <th>choose_one:confidence</th>\n",
       "      <th>choose_one_gold</th>\n",
       "      <th>keyword</th>\n",
       "      <th>location</th>\n",
       "      <th>text</th>\n",
       "      <th>tweetid</th>\n",
       "      <th>userid</th>\n",
       "    </tr>\n",
       "  </thead>\n",
       "  <tbody>\n",
       "    <tr>\n",
       "      <th>0</th>\n",
       "      <td>778253309</td>\n",
       "      <td>False</td>\n",
       "      <td>finalized</td>\n",
       "      <td>5</td>\n",
       "      <td>8/27/15 16:07</td>\n",
       "      <td>Not Relevant</td>\n",
       "      <td>1.0000</td>\n",
       "      <td>NaN</td>\n",
       "      <td>screamed</td>\n",
       "      <td>NaN</td>\n",
       "      <td>i dont even remember slsp happening i just rem...</td>\n",
       "      <td>6.291070e+17</td>\n",
       "      <td>2.327739e+08</td>\n",
       "    </tr>\n",
       "    <tr>\n",
       "      <th>1</th>\n",
       "      <td>778251995</td>\n",
       "      <td>False</td>\n",
       "      <td>finalized</td>\n",
       "      <td>5</td>\n",
       "      <td>8/27/15 20:16</td>\n",
       "      <td>Not Relevant</td>\n",
       "      <td>1.0000</td>\n",
       "      <td>NaN</td>\n",
       "      <td>mudslide</td>\n",
       "      <td>Edinburgh</td>\n",
       "      <td>@hazelannmac ooh now I feel guilty about wishi...</td>\n",
       "      <td>6.290180e+17</td>\n",
       "      <td>2.750220e+07</td>\n",
       "    </tr>\n",
       "    <tr>\n",
       "      <th>2</th>\n",
       "      <td>778247239</td>\n",
       "      <td>False</td>\n",
       "      <td>finalized</td>\n",
       "      <td>5</td>\n",
       "      <td>8/30/15 0:15</td>\n",
       "      <td>Not Relevant</td>\n",
       "      <td>1.0000</td>\n",
       "      <td>NaN</td>\n",
       "      <td>collide</td>\n",
       "      <td>planeta H2o</td>\n",
       "      <td>Soultech - Collide (Club Mix) http://t.co/8xIx...</td>\n",
       "      <td>6.290920e+17</td>\n",
       "      <td>6.052387e+08</td>\n",
       "    </tr>\n",
       "    <tr>\n",
       "      <th>3</th>\n",
       "      <td>778255430</td>\n",
       "      <td>False</td>\n",
       "      <td>finalized</td>\n",
       "      <td>5</td>\n",
       "      <td>8/27/15 17:03</td>\n",
       "      <td>Relevant</td>\n",
       "      <td>0.7978</td>\n",
       "      <td>NaN</td>\n",
       "      <td>wounded</td>\n",
       "      <td>NaN</td>\n",
       "      <td>Police Officer Wounded Suspect Dead After Exch...</td>\n",
       "      <td>6.291190e+17</td>\n",
       "      <td>2.305930e+09</td>\n",
       "    </tr>\n",
       "    <tr>\n",
       "      <th>4</th>\n",
       "      <td>778255609</td>\n",
       "      <td>False</td>\n",
       "      <td>finalized</td>\n",
       "      <td>5</td>\n",
       "      <td>8/27/15 22:11</td>\n",
       "      <td>Not Relevant</td>\n",
       "      <td>1.0000</td>\n",
       "      <td>NaN</td>\n",
       "      <td>wrecked</td>\n",
       "      <td>Sunny Southern California</td>\n",
       "      <td>Cramer: Iger's 3 words that wrecked Disney's s...</td>\n",
       "      <td>6.290800e+17</td>\n",
       "      <td>2.464266e+07</td>\n",
       "    </tr>\n",
       "  </tbody>\n",
       "</table>\n",
       "</div>"
      ],
      "text/plain": [
       "    _unit_id  _golden _unit_state  _trusted_judgments _last_judgment_at  \\\n",
       "0  778253309    False   finalized                   5     8/27/15 16:07   \n",
       "1  778251995    False   finalized                   5     8/27/15 20:16   \n",
       "2  778247239    False   finalized                   5      8/30/15 0:15   \n",
       "3  778255430    False   finalized                   5     8/27/15 17:03   \n",
       "4  778255609    False   finalized                   5     8/27/15 22:11   \n",
       "\n",
       "     choose_one  choose_one:confidence choose_one_gold   keyword  \\\n",
       "0  Not Relevant                 1.0000             NaN  screamed   \n",
       "1  Not Relevant                 1.0000             NaN  mudslide   \n",
       "2  Not Relevant                 1.0000             NaN   collide   \n",
       "3      Relevant                 0.7978             NaN   wounded   \n",
       "4  Not Relevant                 1.0000             NaN   wrecked   \n",
       "\n",
       "                    location  \\\n",
       "0                        NaN   \n",
       "1                  Edinburgh   \n",
       "2                planeta H2o   \n",
       "3                        NaN   \n",
       "4  Sunny Southern California   \n",
       "\n",
       "                                                text       tweetid  \\\n",
       "0  i dont even remember slsp happening i just rem...  6.291070e+17   \n",
       "1  @hazelannmac ooh now I feel guilty about wishi...  6.290180e+17   \n",
       "2  Soultech - Collide (Club Mix) http://t.co/8xIx...  6.290920e+17   \n",
       "3  Police Officer Wounded Suspect Dead After Exch...  6.291190e+17   \n",
       "4  Cramer: Iger's 3 words that wrecked Disney's s...  6.290800e+17   \n",
       "\n",
       "         userid  \n",
       "0  2.327739e+08  \n",
       "1  2.750220e+07  \n",
       "2  6.052387e+08  \n",
       "3  2.305930e+09  \n",
       "4  2.464266e+07  "
      ]
     },
     "execution_count": 196,
     "metadata": {},
     "output_type": "execute_result"
    }
   ],
   "source": [
    "# Dataframe with data to be used in training\n",
    "df = pd.read_csv('./data/train.csv', encoding='utf-8')\n",
    "df_test = pd.read_csv('./data/train.csv', encoding='utf-8')\n",
    "df.head()"
   ]
  },
  {
   "cell_type": "markdown",
   "metadata": {},
   "source": [
    "## Feature extraction before preprocessing\n",
    "\n",
    "Some extracted features of interest must be done before preprocessing any data. These features are:\n",
    "\n",
    "- `hashtag_count`: number of hashtags in the tweet\n",
    "- `mention_count`: number of mentions in the tweet\n",
    "- `has_url`: whether the tweet contains a URL"
   ]
  },
  {
   "cell_type": "code",
   "execution_count": 197,
   "metadata": {},
   "outputs": [
    {
     "data": {
      "text/html": [
       "<div>\n",
       "<style scoped>\n",
       "    .dataframe tbody tr th:only-of-type {\n",
       "        vertical-align: middle;\n",
       "    }\n",
       "\n",
       "    .dataframe tbody tr th {\n",
       "        vertical-align: top;\n",
       "    }\n",
       "\n",
       "    .dataframe thead th {\n",
       "        text-align: right;\n",
       "    }\n",
       "</style>\n",
       "<table border=\"1\" class=\"dataframe\">\n",
       "  <thead>\n",
       "    <tr style=\"text-align: right;\">\n",
       "      <th></th>\n",
       "      <th>_unit_id</th>\n",
       "      <th>_golden</th>\n",
       "      <th>_unit_state</th>\n",
       "      <th>_trusted_judgments</th>\n",
       "      <th>_last_judgment_at</th>\n",
       "      <th>choose_one</th>\n",
       "      <th>choose_one:confidence</th>\n",
       "      <th>choose_one_gold</th>\n",
       "      <th>keyword</th>\n",
       "      <th>location</th>\n",
       "      <th>text</th>\n",
       "      <th>tweetid</th>\n",
       "      <th>userid</th>\n",
       "      <th>hashtag_count</th>\n",
       "      <th>mention_count</th>\n",
       "      <th>has_url</th>\n",
       "    </tr>\n",
       "  </thead>\n",
       "  <tbody>\n",
       "    <tr>\n",
       "      <th>0</th>\n",
       "      <td>778253309</td>\n",
       "      <td>False</td>\n",
       "      <td>finalized</td>\n",
       "      <td>5</td>\n",
       "      <td>8/27/15 16:07</td>\n",
       "      <td>Not Relevant</td>\n",
       "      <td>1.0000</td>\n",
       "      <td>NaN</td>\n",
       "      <td>screamed</td>\n",
       "      <td>NaN</td>\n",
       "      <td>i dont even remember slsp happening i just rem...</td>\n",
       "      <td>6.291070e+17</td>\n",
       "      <td>2.327739e+08</td>\n",
       "      <td>0</td>\n",
       "      <td>0</td>\n",
       "      <td>0</td>\n",
       "    </tr>\n",
       "    <tr>\n",
       "      <th>1</th>\n",
       "      <td>778251995</td>\n",
       "      <td>False</td>\n",
       "      <td>finalized</td>\n",
       "      <td>5</td>\n",
       "      <td>8/27/15 20:16</td>\n",
       "      <td>Not Relevant</td>\n",
       "      <td>1.0000</td>\n",
       "      <td>NaN</td>\n",
       "      <td>mudslide</td>\n",
       "      <td>Edinburgh</td>\n",
       "      <td>@hazelannmac ooh now I feel guilty about wishi...</td>\n",
       "      <td>6.290180e+17</td>\n",
       "      <td>2.750220e+07</td>\n",
       "      <td>0</td>\n",
       "      <td>1</td>\n",
       "      <td>0</td>\n",
       "    </tr>\n",
       "    <tr>\n",
       "      <th>2</th>\n",
       "      <td>778247239</td>\n",
       "      <td>False</td>\n",
       "      <td>finalized</td>\n",
       "      <td>5</td>\n",
       "      <td>8/30/15 0:15</td>\n",
       "      <td>Not Relevant</td>\n",
       "      <td>1.0000</td>\n",
       "      <td>NaN</td>\n",
       "      <td>collide</td>\n",
       "      <td>planeta H2o</td>\n",
       "      <td>Soultech - Collide (Club Mix) http://t.co/8xIx...</td>\n",
       "      <td>6.290920e+17</td>\n",
       "      <td>6.052387e+08</td>\n",
       "      <td>0</td>\n",
       "      <td>0</td>\n",
       "      <td>1</td>\n",
       "    </tr>\n",
       "    <tr>\n",
       "      <th>3</th>\n",
       "      <td>778255430</td>\n",
       "      <td>False</td>\n",
       "      <td>finalized</td>\n",
       "      <td>5</td>\n",
       "      <td>8/27/15 17:03</td>\n",
       "      <td>Relevant</td>\n",
       "      <td>0.7978</td>\n",
       "      <td>NaN</td>\n",
       "      <td>wounded</td>\n",
       "      <td>NaN</td>\n",
       "      <td>Police Officer Wounded Suspect Dead After Exch...</td>\n",
       "      <td>6.291190e+17</td>\n",
       "      <td>2.305930e+09</td>\n",
       "      <td>0</td>\n",
       "      <td>0</td>\n",
       "      <td>1</td>\n",
       "    </tr>\n",
       "    <tr>\n",
       "      <th>4</th>\n",
       "      <td>778255609</td>\n",
       "      <td>False</td>\n",
       "      <td>finalized</td>\n",
       "      <td>5</td>\n",
       "      <td>8/27/15 22:11</td>\n",
       "      <td>Not Relevant</td>\n",
       "      <td>1.0000</td>\n",
       "      <td>NaN</td>\n",
       "      <td>wrecked</td>\n",
       "      <td>Sunny Southern California</td>\n",
       "      <td>Cramer: Iger's 3 words that wrecked Disney's s...</td>\n",
       "      <td>6.290800e+17</td>\n",
       "      <td>2.464266e+07</td>\n",
       "      <td>0</td>\n",
       "      <td>0</td>\n",
       "      <td>1</td>\n",
       "    </tr>\n",
       "  </tbody>\n",
       "</table>\n",
       "</div>"
      ],
      "text/plain": [
       "    _unit_id  _golden _unit_state  _trusted_judgments _last_judgment_at  \\\n",
       "0  778253309    False   finalized                   5     8/27/15 16:07   \n",
       "1  778251995    False   finalized                   5     8/27/15 20:16   \n",
       "2  778247239    False   finalized                   5      8/30/15 0:15   \n",
       "3  778255430    False   finalized                   5     8/27/15 17:03   \n",
       "4  778255609    False   finalized                   5     8/27/15 22:11   \n",
       "\n",
       "     choose_one  choose_one:confidence choose_one_gold   keyword  \\\n",
       "0  Not Relevant                 1.0000             NaN  screamed   \n",
       "1  Not Relevant                 1.0000             NaN  mudslide   \n",
       "2  Not Relevant                 1.0000             NaN   collide   \n",
       "3      Relevant                 0.7978             NaN   wounded   \n",
       "4  Not Relevant                 1.0000             NaN   wrecked   \n",
       "\n",
       "                    location  \\\n",
       "0                        NaN   \n",
       "1                  Edinburgh   \n",
       "2                planeta H2o   \n",
       "3                        NaN   \n",
       "4  Sunny Southern California   \n",
       "\n",
       "                                                text       tweetid  \\\n",
       "0  i dont even remember slsp happening i just rem...  6.291070e+17   \n",
       "1  @hazelannmac ooh now I feel guilty about wishi...  6.290180e+17   \n",
       "2  Soultech - Collide (Club Mix) http://t.co/8xIx...  6.290920e+17   \n",
       "3  Police Officer Wounded Suspect Dead After Exch...  6.291190e+17   \n",
       "4  Cramer: Iger's 3 words that wrecked Disney's s...  6.290800e+17   \n",
       "\n",
       "         userid  hashtag_count  mention_count  has_url  \n",
       "0  2.327739e+08              0              0        0  \n",
       "1  2.750220e+07              0              1        0  \n",
       "2  6.052387e+08              0              0        1  \n",
       "3  2.305930e+09              0              0        1  \n",
       "4  2.464266e+07              0              0        1  "
      ]
     },
     "execution_count": 197,
     "metadata": {},
     "output_type": "execute_result"
    }
   ],
   "source": [
    "# Extract the number of hashtags\n",
    "df[\"hashtag_count\"] = df[\"text\"].apply(lambda x: len([c for c in str(x) if c == \"#\"]))\n",
    "\n",
    "# Extract the number of mentions\n",
    "df[\"mention_count\"] = df[\"text\"].apply(lambda x: len([c for c in str(x) if c == \"@\"]))\n",
    "\n",
    "# Extract the `has_url` feature\n",
    "df[\"has_url\"] = df[\"text\"].apply(lambda x: 1 if \"http\" in str(x) else 0)\n",
    "\n",
    "# Write the updated dataframe to a CSV file\n",
    "df.head()"
   ]
  },
  {
   "cell_type": "markdown",
   "metadata": {},
   "source": [
    "##  Exploratory data analysis (EDA)"
   ]
  },
  {
   "cell_type": "code",
   "execution_count": 198,
   "metadata": {},
   "outputs": [
    {
     "data": {
      "text/html": [
       "<div>\n",
       "<style scoped>\n",
       "    .dataframe tbody tr th:only-of-type {\n",
       "        vertical-align: middle;\n",
       "    }\n",
       "\n",
       "    .dataframe tbody tr th {\n",
       "        vertical-align: top;\n",
       "    }\n",
       "\n",
       "    .dataframe thead th {\n",
       "        text-align: right;\n",
       "    }\n",
       "</style>\n",
       "<table border=\"1\" class=\"dataframe\">\n",
       "  <thead>\n",
       "    <tr style=\"text-align: right;\">\n",
       "      <th></th>\n",
       "      <th>_unit_id</th>\n",
       "      <th>_golden</th>\n",
       "      <th>_unit_state</th>\n",
       "      <th>_trusted_judgments</th>\n",
       "      <th>_last_judgment_at</th>\n",
       "      <th>choose_one</th>\n",
       "      <th>choose_one:confidence</th>\n",
       "      <th>choose_one_gold</th>\n",
       "      <th>keyword</th>\n",
       "      <th>location</th>\n",
       "      <th>text</th>\n",
       "      <th>tweetid</th>\n",
       "      <th>userid</th>\n",
       "      <th>hashtag_count</th>\n",
       "      <th>mention_count</th>\n",
       "      <th>has_url</th>\n",
       "    </tr>\n",
       "  </thead>\n",
       "  <tbody>\n",
       "    <tr>\n",
       "      <th>0</th>\n",
       "      <td>778253309</td>\n",
       "      <td>False</td>\n",
       "      <td>finalized</td>\n",
       "      <td>5</td>\n",
       "      <td>8/27/15 16:07</td>\n",
       "      <td>Not Relevant</td>\n",
       "      <td>1.0000</td>\n",
       "      <td>NaN</td>\n",
       "      <td>screamed</td>\n",
       "      <td>NaN</td>\n",
       "      <td>i dont even remember slsp happening i just rem...</td>\n",
       "      <td>6.291070e+17</td>\n",
       "      <td>2.327739e+08</td>\n",
       "      <td>0</td>\n",
       "      <td>0</td>\n",
       "      <td>0</td>\n",
       "    </tr>\n",
       "    <tr>\n",
       "      <th>1</th>\n",
       "      <td>778251995</td>\n",
       "      <td>False</td>\n",
       "      <td>finalized</td>\n",
       "      <td>5</td>\n",
       "      <td>8/27/15 20:16</td>\n",
       "      <td>Not Relevant</td>\n",
       "      <td>1.0000</td>\n",
       "      <td>NaN</td>\n",
       "      <td>mudslide</td>\n",
       "      <td>Edinburgh</td>\n",
       "      <td>@hazelannmac ooh now I feel guilty about wishi...</td>\n",
       "      <td>6.290180e+17</td>\n",
       "      <td>2.750220e+07</td>\n",
       "      <td>0</td>\n",
       "      <td>1</td>\n",
       "      <td>0</td>\n",
       "    </tr>\n",
       "    <tr>\n",
       "      <th>2</th>\n",
       "      <td>778247239</td>\n",
       "      <td>False</td>\n",
       "      <td>finalized</td>\n",
       "      <td>5</td>\n",
       "      <td>8/30/15 0:15</td>\n",
       "      <td>Not Relevant</td>\n",
       "      <td>1.0000</td>\n",
       "      <td>NaN</td>\n",
       "      <td>collide</td>\n",
       "      <td>planeta H2o</td>\n",
       "      <td>Soultech - Collide (Club Mix) http://t.co/8xIx...</td>\n",
       "      <td>6.290920e+17</td>\n",
       "      <td>6.052387e+08</td>\n",
       "      <td>0</td>\n",
       "      <td>0</td>\n",
       "      <td>1</td>\n",
       "    </tr>\n",
       "    <tr>\n",
       "      <th>3</th>\n",
       "      <td>778255430</td>\n",
       "      <td>False</td>\n",
       "      <td>finalized</td>\n",
       "      <td>5</td>\n",
       "      <td>8/27/15 17:03</td>\n",
       "      <td>Relevant</td>\n",
       "      <td>0.7978</td>\n",
       "      <td>NaN</td>\n",
       "      <td>wounded</td>\n",
       "      <td>NaN</td>\n",
       "      <td>Police Officer Wounded Suspect Dead After Exch...</td>\n",
       "      <td>6.291190e+17</td>\n",
       "      <td>2.305930e+09</td>\n",
       "      <td>0</td>\n",
       "      <td>0</td>\n",
       "      <td>1</td>\n",
       "    </tr>\n",
       "    <tr>\n",
       "      <th>4</th>\n",
       "      <td>778255609</td>\n",
       "      <td>False</td>\n",
       "      <td>finalized</td>\n",
       "      <td>5</td>\n",
       "      <td>8/27/15 22:11</td>\n",
       "      <td>Not Relevant</td>\n",
       "      <td>1.0000</td>\n",
       "      <td>NaN</td>\n",
       "      <td>wrecked</td>\n",
       "      <td>Sunny Southern California</td>\n",
       "      <td>Cramer: Iger's 3 words that wrecked Disney's s...</td>\n",
       "      <td>6.290800e+17</td>\n",
       "      <td>2.464266e+07</td>\n",
       "      <td>0</td>\n",
       "      <td>0</td>\n",
       "      <td>1</td>\n",
       "    </tr>\n",
       "  </tbody>\n",
       "</table>\n",
       "</div>"
      ],
      "text/plain": [
       "    _unit_id  _golden _unit_state  _trusted_judgments _last_judgment_at  \\\n",
       "0  778253309    False   finalized                   5     8/27/15 16:07   \n",
       "1  778251995    False   finalized                   5     8/27/15 20:16   \n",
       "2  778247239    False   finalized                   5      8/30/15 0:15   \n",
       "3  778255430    False   finalized                   5     8/27/15 17:03   \n",
       "4  778255609    False   finalized                   5     8/27/15 22:11   \n",
       "\n",
       "     choose_one  choose_one:confidence choose_one_gold   keyword  \\\n",
       "0  Not Relevant                 1.0000             NaN  screamed   \n",
       "1  Not Relevant                 1.0000             NaN  mudslide   \n",
       "2  Not Relevant                 1.0000             NaN   collide   \n",
       "3      Relevant                 0.7978             NaN   wounded   \n",
       "4  Not Relevant                 1.0000             NaN   wrecked   \n",
       "\n",
       "                    location  \\\n",
       "0                        NaN   \n",
       "1                  Edinburgh   \n",
       "2                planeta H2o   \n",
       "3                        NaN   \n",
       "4  Sunny Southern California   \n",
       "\n",
       "                                                text       tweetid  \\\n",
       "0  i dont even remember slsp happening i just rem...  6.291070e+17   \n",
       "1  @hazelannmac ooh now I feel guilty about wishi...  6.290180e+17   \n",
       "2  Soultech - Collide (Club Mix) http://t.co/8xIx...  6.290920e+17   \n",
       "3  Police Officer Wounded Suspect Dead After Exch...  6.291190e+17   \n",
       "4  Cramer: Iger's 3 words that wrecked Disney's s...  6.290800e+17   \n",
       "\n",
       "         userid  hashtag_count  mention_count  has_url  \n",
       "0  2.327739e+08              0              0        0  \n",
       "1  2.750220e+07              0              1        0  \n",
       "2  6.052387e+08              0              0        1  \n",
       "3  2.305930e+09              0              0        1  \n",
       "4  2.464266e+07              0              0        1  "
      ]
     },
     "metadata": {},
     "output_type": "display_data"
    },
    {
     "data": {
      "image/png": "[encoded data removed]",
      "text/plain": [
       "<Figure size 640x480 with 1 Axes>"
      ]
     },
     "metadata": {},
     "output_type": "display_data"
    }
   ],
   "source": [
    "# Clean `keyword` column.\n",
    "def clean_keyword(keyword: str):\n",
    "    return unquote(keyword) if pd.notnull(keyword) else ''\n",
    "\n",
    "df['keyword'] = df['keyword'].apply(clean_keyword).apply(str.lower)\n",
    "\n",
    "# Write the updated dataframe to a new CSV file\n",
    "df.to_csv('./results/02-clean-keywords.csv', index=False)\n",
    "display(df.head())\n",
    "\n",
    "# Plot the most common keywords\n",
    "\n",
    "defined_keywords = df[df['keyword'] != '']['keyword']\n",
    "\n",
    "plt.figure()\n",
    "sns.countplot(y=defined_keywords, order=defined_keywords.value_counts().iloc[:10].index)\n",
    "plt.title('Most Common Keywords')\n",
    "plt.xlabel('Count')\n",
    "plt.ylabel('Keyword')\n",
    "plt.tight_layout()\n",
    "plt.savefig('./results/03-keywords.png')\n",
    "plt.show()\n",
    "\n"
   ]
  },
  {
   "cell_type": "code",
   "execution_count": 199,
   "metadata": {},
   "outputs": [
    {
     "data": {
      "image/png": "[encoded data removed]",
      "text/plain": [
       "<Figure size 1400x600 with 2 Axes>"
      ]
     },
     "metadata": {},
     "output_type": "display_data"
    }
   ],
   "source": [
    "# Compare keywords for disaster tweets and non-disaster tweets\n",
    "disaster_keywords = df[df['choose_one'] == 'Relevant']['keyword']\n",
    "non_disaster_keywords = df[df['choose_one'] == 'Not Relevant']['keyword']\n",
    "\n",
    "# Create a figure object and define the grid\n",
    "fig, ax = plt.subplots(1, 2, figsize=(14, 6))  # 1 row, 2 columns\n",
    "\n",
    "# Plotting\n",
    "sns.countplot(y=disaster_keywords, ax=ax[0], order=disaster_keywords.value_counts().iloc[:10].index, color='red')\n",
    "sns.countplot(y=non_disaster_keywords, ax=ax[1], order=non_disaster_keywords.value_counts().iloc[:10].index, color='blue')\n",
    "\n",
    "# Titles and labels\n",
    "ax[0].set_title('Most Common Keywords for Disaster Tweets')\n",
    "ax[0].set_xlabel('Count')\n",
    "ax[0].set_ylabel('Keyword')\n",
    "\n",
    "ax[1].set_title('Most Common Keywords for Non-Disaster Tweets')\n",
    "ax[1].set_xlabel('Count')\n",
    "ax[1].set_ylabel('Keyword')\n",
    "\n",
    "# Adjust layout\n",
    "plt.tight_layout()\n",
    "plt.savefig('./results/keywords_comparison.png')\n",
    "plt.show()\n",
    "\n"
   ]
  },
  {
   "cell_type": "markdown",
   "metadata": {},
   "source": [
    "In the plot above, we can see that the top 10 shared keywords of disaster-related tweets and non-disaster-related tweets do not share any common keywords."
   ]
  },
  {
   "cell_type": "code",
   "execution_count": 200,
   "metadata": {},
   "outputs": [
    {
     "data": {
      "text/plain": [
       "Text(0.5, 1.0, 'Number of Tweets with Target Value of 1 and 0')"
      ]
     },
     "execution_count": 200,
     "metadata": {},
     "output_type": "execute_result"
    },
    {
     "data": {
      "image/png": "[encoded data removed]",
      "text/plain": [
       "<Figure size 640x480 with 1 Axes>"
      ]
     },
     "metadata": {},
     "output_type": "display_data"
    }
   ],
   "source": [
    "sns.countplot(x='choose_one', data=df)\n",
    "plt.title('Number of Tweets with Target Value of 1 and 0')"
   ]
  },
  {
   "cell_type": "markdown",
   "metadata": {},
   "source": [
    "## 1. Preprocessing"
   ]
  },
  {
   "cell_type": "markdown",
   "metadata": {},
   "source": [
    "### Remove entries with low confidence in labling"
   ]
  },
  {
   "cell_type": "code",
   "execution_count": 201,
   "metadata": {},
   "outputs": [
    {
     "name": "stdout",
     "output_type": "stream",
     "text": [
      "Number of rows removed: 2167\n"
     ]
    }
   ],
   "source": [
    "initial_count = df.shape[0]\n",
    "# Remove rows with a confidence score less than 1.0\n",
    "confidence_threshold = 0.7\n",
    "df = df[df['choose_one:confidence'] >= confidence_threshold]\n",
    "df = df[df['choose_one'] != \"Can't Decide\"]\n",
    "\n",
    "print(\"Number of rows removed: {}\".format(initial_count - df.shape[0]))"
   ]
  },
  {
   "cell_type": "markdown",
   "metadata": {},
   "source": [
    "All entries with can't decide belonged in the set with confidence under treshold "
   ]
  },
  {
   "cell_type": "markdown",
   "metadata": {},
   "source": [
    "### 1.1 Delete features that are not useful"
   ]
  },
  {
   "cell_type": "code",
   "execution_count": 202,
   "metadata": {},
   "outputs": [
    {
     "data": {
      "text/html": [
       "<div>\n",
       "<style scoped>\n",
       "    .dataframe tbody tr th:only-of-type {\n",
       "        vertical-align: middle;\n",
       "    }\n",
       "\n",
       "    .dataframe tbody tr th {\n",
       "        vertical-align: top;\n",
       "    }\n",
       "\n",
       "    .dataframe thead th {\n",
       "        text-align: right;\n",
       "    }\n",
       "</style>\n",
       "<table border=\"1\" class=\"dataframe\">\n",
       "  <thead>\n",
       "    <tr style=\"text-align: right;\">\n",
       "      <th></th>\n",
       "      <th>y</th>\n",
       "      <th>text</th>\n",
       "    </tr>\n",
       "  </thead>\n",
       "  <tbody>\n",
       "    <tr>\n",
       "      <th>0</th>\n",
       "      <td>0</td>\n",
       "      <td>i dont even remember slsp happening i just rem...</td>\n",
       "    </tr>\n",
       "    <tr>\n",
       "      <th>1</th>\n",
       "      <td>0</td>\n",
       "      <td>@hazelannmac ooh now I feel guilty about wishi...</td>\n",
       "    </tr>\n",
       "    <tr>\n",
       "      <th>2</th>\n",
       "      <td>0</td>\n",
       "      <td>Soultech - Collide (Club Mix) http://t.co/8xIx...</td>\n",
       "    </tr>\n",
       "    <tr>\n",
       "      <th>3</th>\n",
       "      <td>1</td>\n",
       "      <td>Police Officer Wounded Suspect Dead After Exch...</td>\n",
       "    </tr>\n",
       "    <tr>\n",
       "      <th>4</th>\n",
       "      <td>0</td>\n",
       "      <td>Cramer: Iger's 3 words that wrecked Disney's s...</td>\n",
       "    </tr>\n",
       "  </tbody>\n",
       "</table>\n",
       "</div>"
      ],
      "text/plain": [
       "   y                                               text\n",
       "0  0  i dont even remember slsp happening i just rem...\n",
       "1  0  @hazelannmac ooh now I feel guilty about wishi...\n",
       "2  0  Soultech - Collide (Club Mix) http://t.co/8xIx...\n",
       "3  1  Police Officer Wounded Suspect Dead After Exch...\n",
       "4  0  Cramer: Iger's 3 words that wrecked Disney's s..."
      ]
     },
     "metadata": {},
     "output_type": "display_data"
    }
   ],
   "source": [
    "# original_features: _unit_id, _golden, _unit_state, _trusted_judgments, _last_judgment_at, choose_one, choose_one:confidence, choose_one_gold, keyword, location, text, tweetid, userid\n",
    "features_to_keep = ['y', 'text']\n",
    "\n",
    "# map choose one to 1 or 0, call it y to be consistent with ml conventions\n",
    "df['y'] = df['choose_one'].apply(lambda x: 1 if x == 'Relevant' else 0)\n",
    "df = df[features_to_keep]\n",
    "\n",
    "df_test['y'] = df_test['choose_one'].apply(lambda x: 1 if x == 'Relevant' else 0)\n",
    "df_test = df_test[features_to_keep]\n",
    "\n",
    "display(df.head())"
   ]
  },
  {
   "cell_type": "markdown",
   "metadata": {},
   "source": [
    "### 1.2 Text processing"
   ]
  },
  {
   "cell_type": "code",
   "execution_count": 203,
   "metadata": {},
   "outputs": [
    {
     "data": {
      "text/plain": [
       "0       i dont even remember slsp happening i just rem...\n",
       "1       @hazelannmac ooh now I feel guilty about wishi...\n",
       "2       Soultech - Collide (Club Mix) http://t.co/8xIx...\n",
       "3       Police Officer Wounded Suspect Dead After Exch...\n",
       "4       Cramer: Iger's 3 words that wrecked Disney's s...\n",
       "                              ...                        \n",
       "8695    How is it one careless match can start a fores...\n",
       "8696    Govt allocating 1.3 bn for flood action: Issue...\n",
       "8697    Last night was a ball! Atop a 40 ft. fire truc...\n",
       "8698    Thank you @FedEx for no longer shipping live m...\n",
       "8699    #Japan #Fukushima the most serious man made di...\n",
       "Name: text, Length: 6533, dtype: object"
      ]
     },
     "metadata": {},
     "output_type": "display_data"
    },
    {
     "data": {
      "text/html": [
       "<div>\n",
       "<style scoped>\n",
       "    .dataframe tbody tr th:only-of-type {\n",
       "        vertical-align: middle;\n",
       "    }\n",
       "\n",
       "    .dataframe tbody tr th {\n",
       "        vertical-align: top;\n",
       "    }\n",
       "\n",
       "    .dataframe thead th {\n",
       "        text-align: right;\n",
       "    }\n",
       "</style>\n",
       "<table border=\"1\" class=\"dataframe\">\n",
       "  <thead>\n",
       "    <tr style=\"text-align: right;\">\n",
       "      <th></th>\n",
       "      <th>y</th>\n",
       "      <th>text</th>\n",
       "    </tr>\n",
       "  </thead>\n",
       "  <tbody>\n",
       "    <tr>\n",
       "      <th>0</th>\n",
       "      <td>0</td>\n",
       "      <td>do not even remember slsp happening remember l...</td>\n",
       "    </tr>\n",
       "    <tr>\n",
       "      <th>1</th>\n",
       "      <td>0</td>\n",
       "      <td>hazelannmac ooh feel guilty wishing hatman bet...</td>\n",
       "    </tr>\n",
       "    <tr>\n",
       "      <th>2</th>\n",
       "      <td>0</td>\n",
       "      <td>soultech collide club mix</td>\n",
       "    </tr>\n",
       "    <tr>\n",
       "      <th>3</th>\n",
       "      <td>1</td>\n",
       "      <td>police officer wounded suspect dead exchanging...</td>\n",
       "    </tr>\n",
       "    <tr>\n",
       "      <th>4</th>\n",
       "      <td>0</td>\n",
       "      <td>cramer igers 3 word wrecked disney stock</td>\n",
       "    </tr>\n",
       "  </tbody>\n",
       "</table>\n",
       "</div>"
      ],
      "text/plain": [
       "   y                                               text\n",
       "0  0  do not even remember slsp happening remember l...\n",
       "1  0  hazelannmac ooh feel guilty wishing hatman bet...\n",
       "2  0                          soultech collide club mix\n",
       "3  1  police officer wounded suspect dead exchanging...\n",
       "4  0           cramer igers 3 word wrecked disney stock"
      ]
     },
     "execution_count": 203,
     "metadata": {},
     "output_type": "execute_result"
    }
   ],
   "source": [
    "lemmatizer = WordNetLemmatizer()\n",
    "tokenizer = TweetTokenizer()\n",
    "\n",
    "def clean_text(text: str):\n",
    "  text = re.sub(r'https?://\\S+', '', text)  # Remove links\n",
    "  text = re.sub(r'\\n', ' ', text)  # Remove line breaks\n",
    "  text = re.sub('\\s+', ' ', text).strip() # Remove leading, trailing, and extra spaces\n",
    "  text = text.translate(str.maketrans('', '', string.punctuation)) # Remove punctuation\n",
    "  text = text.lower()\n",
    "  text = ' '.join([word for word in text.split() if word not in stopwords.words(\"english\")])\n",
    "  text = ' '.join([lemmatizer.lemmatize(word) for word in text.split()])\n",
    "  text = contractions.fix(text)\n",
    "  text = tokenizer.tokenize(text)\n",
    "  text = ' '.join(text)\n",
    "\n",
    "  return text\n",
    "\n",
    "# show head of text column\n",
    "display(df['text'])\n",
    "\n",
    "df['text'] = df['text'].apply(lambda x: clean_text(x))\n",
    "df_test['text'] = df_test['text'].apply(lambda x: clean_text(x))\n",
    "df.head()"
   ]
  },
  {
   "cell_type": "markdown",
   "metadata": {},
   "source": [
    "### 1.4 Duplicated data"
   ]
  },
  {
   "cell_type": "code",
   "execution_count": 204,
   "metadata": {},
   "outputs": [
    {
     "name": "stdout",
     "output_type": "stream",
     "text": [
      "Removed 638 duplicated rows.\n"
     ]
    }
   ],
   "source": [
    "count_initial = df.shape[0]\n",
    "\n",
    "# Remove duplicated rows with respect to the `text` column\n",
    "df = df.drop_duplicates(subset=['text'])\n",
    "\n",
    "print(\"Removed {} duplicated rows.\".format(count_initial - df.shape[0]))"
   ]
  },
  {
   "cell_type": "markdown",
   "metadata": {},
   "source": [
    "## 2. Extracting features"
   ]
  },
  {
   "cell_type": "code",
   "execution_count": 205,
   "metadata": {},
   "outputs": [],
   "source": [
    "# Create new column for text length\n",
    "df['text_length'] = df['text'].apply(len)\n",
    "df_test['text_length'] = df_test['text'].apply(len)"
   ]
  },
  {
   "cell_type": "code",
   "execution_count": 206,
   "metadata": {},
   "outputs": [],
   "source": [
    "\n",
    "# def get_polarity(text: str):\n",
    "#     return TextBlob(text).sentiment.polarity\n",
    "\n",
    "# def get_subjectivity(text: str):\n",
    "#     return TextBlob(text).sentiment.subjectivity\n",
    "\n",
    "# # Add new features for polarity and subjectivity\n",
    "# df['polarity'] = df['text'].apply(get_polarity)\n",
    "# df['subjectivity'] = df['text'].apply(get_subjectivity)\n",
    "\n",
    "# df_test['polarity'] = df_test['text'].apply(get_polarity)\n",
    "# df_test['subjectivity'] = df_test['text'].apply(get_subjectivity)"
   ]
  },
  {
   "cell_type": "markdown",
   "metadata": {},
   "source": [
    "## Sentiment analysis\n"
   ]
  },
  {
   "cell_type": "code",
   "execution_count": 207,
   "metadata": {},
   "outputs": [],
   "source": [
    "from nltk.sentiment.vader import SentimentIntensityAnalyzer\n",
    "nltk.download('vader_lexicon')\n",
    "def analyze_sentiment_vader(text):\n",
    "    analyzer = SentimentIntensityAnalyzer()\n",
    "    sentiment_scores = analyzer.polarity_scores(text)\n",
    "    if sentiment_scores['compound'] >= 0.05:\n",
    "        return \"Positive\"\n",
    "    elif sentiment_scores['compound'] <= -0.05:\n",
    "        return \"Negative\"\n",
    "    else:\n",
    "        return \"Neutral\"\n",
    "\n",
    "df['sentiment'] = df['text'].apply(analyze_sentiment_vader)\n",
    "\n",
    "df.sentiment.head()"
   ]
  },
  {
   "cell_type": "markdown",
   "metadata": {},
   "source": [
    "## Checking if sentiment and target is correlated\n"
   ]
  },
  {
   "cell_type": "code",
   "execution_count": 208,
   "metadata": {},
   "outputs": [],
   "source": [
    "\n",
    "from scipy import stats\n",
    "\n",
    "\n",
    "df['sentiment_numeric'] = df['sentiment'].map({'Negative': 0, 'Neutral': 1, 'Positive': 2})\n",
    "\n",
    "disaster_group = df[df['target'] == 1]['sentiment_numeric']\n",
    "not_disaster_group = df[df['target'] == 0]['sentiment_numeric']\n",
    "\n",
    "t_statistic, p_value = stats.ttest_ind(disaster_group, not_disaster_group, equal_var=False)\n",
    "\n",
    "print(p_value)\n",
    "if p_value < 0.05:\n",
    "    print(\"There is a significant difference in sentiment between disaster and not disaster tweets.\")\n",
    "else:\n",
    "    print(\"There is no significant difference in sentiment between disaster and not disaster tweets.\")"
   ]
  },
  {
   "cell_type": "markdown",
   "metadata": {},
   "source": [
    "## Create ngrams"
   ]
  },
  {
   "cell_type": "code",
   "execution_count": 209,
   "metadata": {},
   "outputs": [],
   "source": [
    "def create_ngrams(text, n):\n",
    "    tokens = word_tokenize(text)\n",
    "    n_grams = list(ngrams(tokens, n))\n",
    "    return n_grams\n",
    "\n",
    "\n",
    "df['bigrams'] = df['text'].apply(lambda x: create_ngrams(x, 2))\n",
    "df['trigrams'] = df['text'].apply(lambda x: create_ngrams(x, 3))\n",
    "\n",
    "df_test['bigrams'] = df_test['text'].apply(lambda x: create_ngrams(x, 2))\n",
    "df_test['trigrams'] = df_test['text'].apply(lambda x: create_ngrams(x, 3))\n"
   ]
  },
  {
   "cell_type": "markdown",
   "metadata": {},
   "source": [
    "## Count number of occurences of ngrams in each category\n"
   ]
  },
  {
   "cell_type": "markdown",
   "metadata": {},
   "source": [
    "### Bigrams"
   ]
  },
  {
   "cell_type": "code",
   "execution_count": 210,
   "metadata": {},
   "outputs": [
    {
     "name": "stdout",
     "output_type": "stream",
     "text": [
      "Most common n-grams in disaster-related tweets:\n",
      "[(('suicide', 'bomber'), 47), (('do', 'not'), 34), (('i', 'am'), 33), (('severe', 'thunderstorm'), 32), (('suicide', 'bombing'), 28), (('wild', 'fire'), 28), (('thunderstorm', 'warning'), 26), (('heat', 'wave'), 25), (('northern', 'california'), 24), (('70', 'year'), 22)]\n",
      "\n",
      "Most common n-grams in non-disaster tweets:\n",
      "[(('i', 'am'), 230), (('do', 'not'), 126), (('can', 'not'), 77), (('you', 'are'), 74), (('going', 'to'), 41), (('youtube', 'video'), 30), (('i', 'have'), 30), (('that', 'is'), 30), (('liked', 'youtube'), 29), (('look', 'like'), 28)]\n"
     ]
    }
   ],
   "source": [
    "\n",
    "disaster_bigrams = df[df['y'] == 1]['bigrams']\n",
    "non_disaster_bigrams = df[df['y'] == 0]['bigrams']\n",
    "\n",
    "disaster_bigram_counts = Counter([gram for ngram_list in disaster_bigrams for gram in ngram_list])\n",
    "non_disaster_bigram_counts = Counter([gram for ngram_list in non_disaster_bigrams for gram in ngram_list])\n",
    "\n",
    "print(\"Most common n-grams in disaster-related tweets:\")\n",
    "print(disaster_bigram_counts.most_common(10))\n",
    "\n",
    "\n",
    "print(\"\\nMost common n-grams in non-disaster tweets:\")\n",
    "print(non_disaster_bigram_counts.most_common(10))"
   ]
  },
  {
   "cell_type": "markdown",
   "metadata": {},
   "source": [
    "### Trigrams"
   ]
  },
  {
   "cell_type": "code",
   "execution_count": 211,
   "metadata": {},
   "outputs": [
    {
     "name": "stdout",
     "output_type": "stream",
     "text": [
      "Most common trigrams in disaster-related tweets:\n",
      "[(('severe', 'thunderstorm', 'warning'), 26), (('suicide', 'bomber', 'kill'), 17), (('suicide', 'bomber', 'detonated'), 17), (('pkk', 'suicide', 'bomber'), 15), (('bomber', 'detonated', 'bomb'), 15), (('northern', 'california', 'wildfire'), 15), (('officer', 'wounded', 'suspect'), 14), (('16yr', 'old', 'pkk'), 14), (('old', 'pkk', 'suicide'), 14), (('detonated', 'bomb', 'turkey'), 14)]\n",
      "\n",
      "Most common trigrams in non-disaster tweets:\n",
      "[(('liked', 'youtube', 'video'), 29), (('i', 'am', 'going'), 20), (('pick', 'fan', 'army'), 16), (('likely', 'rise', 'top'), 14), (('rise', 'top', 'pay'), 14), (('top', 'pay', 'pile'), 14), (('do', 'not', 'know'), 13), (('ignition', 'knock', 'detonation'), 12), (('cross', 'body', 'bag'), 12), (('deluged', 'invoice', 'make'), 11)]\n"
     ]
    }
   ],
   "source": [
    "disaster_trigrams = df[df['y'] == 1]['trigrams']\n",
    "non_disaster_trigrams = df[df['y'] == 0]['trigrams']\n",
    "\n",
    "disaster_trigram_counts = Counter([gram for ngram_list in disaster_trigrams for gram in ngram_list])\n",
    "non_disaster_trigram_counts = Counter([gram for ngram_list in non_disaster_trigrams for gram in ngram_list])\n",
    "\n",
    "print(\"Most common trigrams in disaster-related tweets:\")\n",
    "print(disaster_trigram_counts.most_common(10))\n",
    "\n",
    "\n",
    "print(\"\\nMost common trigrams in non-disaster tweets:\")\n",
    "print(non_disaster_trigram_counts.most_common(10))"
   ]
  },
  {
   "cell_type": "code",
   "execution_count": 212,
   "metadata": {},
   "outputs": [
    {
     "data": {
      "text/plain": [
       "Index(['y', 'text', 'text_length', 'bigrams', 'trigrams'], dtype='object')"
      ]
     },
     "metadata": {},
     "output_type": "display_data"
    }
   ],
   "source": [
    "# print features\n",
    "display(df.columns)"
   ]
  },
  {
   "cell_type": "markdown",
   "metadata": {},
   "source": [
    "### Encode text"
   ]
  },
  {
   "cell_type": "code",
   "execution_count": 219,
   "metadata": {},
   "outputs": [],
   "source": [
    "# Using TF-IDF Vectorizer \n",
    "\n",
    "# Initialize the vectorizer\n",
    "vectorizer = TfidfVectorizer(max_features=1000)\n",
    "\n",
    "# Fit and transform the training data\n",
    "embeddings = vectorizer.fit_transform(df['text'])\n",
    "\n",
    "# Transform the test data using the same vectorizer\n",
    "embeddings_test = vectorizer.transform(df_test['text'])\n",
    "\n",
    "# Index(['y', 'text', 'text_length', 'polarity', 'subjectivity', 'sentiment',\n",
    "    #    'bigrams', 'trigrams'],\n",
    "\n",
    "# keep features: y, text, text_length\n",
    "\n",
    "df = df[['y', 'text', 'text_length']]\n",
    "df_test = df_test[['y', 'text', 'text_length']]\n",
    "\n",
    "# Concatenate the embeddings with the original dataframes\n",
    "# Create dataframes from embeddings with aligned indices\n",
    "embeddings_df = pd.DataFrame(embeddings.toarray(), columns=vectorizer.get_feature_names_out(), index=df.index)\n",
    "embeddings_test_df = pd.DataFrame(embeddings_test.toarray(), columns=vectorizer.get_feature_names_out(), index=df_test.index)\n",
    "\n",
    "# Concatenate the dataframes with the embeddings\n",
    "df_with_embeddings = pd.concat([df, embeddings_df], axis=1)\n",
    "df_test_with_embeddings = pd.concat([df_test, embeddings_test_df], axis=1)"
   ]
  },
  {
   "cell_type": "markdown",
   "metadata": {},
   "source": [
    "## 3. Selecting features\n",
    "\n",
    "> TODO: Select features from the extracted features"
   ]
  },
  {
   "cell_type": "code",
   "execution_count": 220,
   "metadata": {},
   "outputs": [
    {
     "name": "stdout",
     "output_type": "stream",
     "text": [
      "y              0\n",
      "text           0\n",
      "text_length    0\n",
      "dtype: int64\n",
      "--------------------------\n",
      "y              0\n",
      "text           0\n",
      "text_length    0\n",
      "dtype: int64\n",
      "--------------------------\n",
      "y              0\n",
      "text           0\n",
      "text_length    0\n",
      "05             0\n",
      "10             0\n",
      "              ..\n",
      "yet            0\n",
      "york           0\n",
      "you            0\n",
      "youtube        0\n",
      "zone           0\n",
      "Length: 1003, dtype: int64\n",
      "--------------------------\n",
      "y              0\n",
      "text           0\n",
      "text_length    0\n",
      "05             0\n",
      "10             0\n",
      "              ..\n",
      "yet            0\n",
      "york           0\n",
      "you            0\n",
      "youtube        0\n",
      "zone           0\n",
      "Length: 1003, dtype: int64\n",
      "--------------------------\n"
     ]
    }
   ],
   "source": [
    "print(df.isnull().sum())\n",
    "print(\"--------------------------\")\n",
    "print(df_test.isnull().sum())\n",
    "print(\"--------------------------\")\n",
    "\n",
    "print(df_with_embeddings.isnull().sum())\n",
    "print(\"--------------------------\")\n",
    "print(df_test_with_embeddings.isnull().sum())\n",
    "print(\"--------------------------\")"
   ]
  },
  {
   "cell_type": "code",
   "execution_count": 228,
   "metadata": {},
   "outputs": [],
   "source": [
    "y_train = df_with_embeddings['y']\n",
    "X_train = df_with_embeddings.drop(['text', 'y'], axis=1)\n",
    "\n",
    "# split into train and validation sets\n",
    "X_train, X_val, y_train, y_val = train_test_split(X_train, y_train, test_size=0.2, random_state=42)\n",
    "\n",
    "y_test = df_test_with_embeddings['y']\n",
    "X_test = df_test_with_embeddings.drop(['text', 'y'], axis=1)"
   ]
  },
  {
   "cell_type": "markdown",
   "metadata": {},
   "source": [
    "## 4. Modelling"
   ]
  },
  {
   "cell_type": "markdown",
   "metadata": {},
   "source": [
    "#### 4.1.1. Logistic regression"
   ]
  },
  {
   "cell_type": "code",
   "execution_count": 233,
   "metadata": {},
   "outputs": [],
   "source": [
    "from sklearn.metrics import accuracy_score, classification_report, confusion_matrix, roc_curve, auc\n",
    "from sklearn.linear_model import LogisticRegression\n",
    "from sklearn.model_selection import train_test_split\n",
    "import matplotlib.pyplot as plt\n",
    "import seaborn as sns\n",
    "\n",
    "logreg = LogisticRegression(random_state=42, solver=\"liblinear\")\n",
    "\n",
    "logreg.fit(X_train, y_train)\n",
    "\n",
    "y_val_pred = logreg.predict(X_val)"
   ]
  },
  {
   "cell_type": "code",
   "execution_count": 239,
   "metadata": {},
   "outputs": [
    {
     "name": "stdout",
     "output_type": "stream",
     "text": [
      "Validation Accuracy: 0.8396946564885496\n",
      "Validation Classification Report: \n",
      "               precision    recall  f1-score   support\n",
      "\n",
      "           0       0.83      0.92      0.88       724\n",
      "           1       0.85      0.71      0.77       455\n",
      "\n",
      "    accuracy                           0.84      1179\n",
      "   macro avg       0.84      0.82      0.82      1179\n",
      "weighted avg       0.84      0.84      0.84      1179\n",
      "\n"
     ]
    },
    {
     "data": {
      "image/png": "[encoded data removed]",
      "text/plain": [
       "<Figure size 1000x500 with 3 Axes>"
      ]
     },
     "metadata": {},
     "output_type": "display_data"
    },
    {
     "name": "stdout",
     "output_type": "stream",
     "text": [
      "Accuracy: 0.8101149425287356\n",
      "Classification Report: \n",
      "               precision    recall  f1-score   support\n",
      "\n",
      "           0       0.79      0.92      0.85      4984\n",
      "           1       0.86      0.67      0.75      3716\n",
      "\n",
      "    accuracy                           0.81      8700\n",
      "   macro avg       0.82      0.79      0.80      8700\n",
      "weighted avg       0.82      0.81      0.81      8700\n",
      "\n"
     ]
    },
    {
     "data": {
      "image/png": "[encoded data removed]",
      "text/plain": [
       "<Figure size 300x300 with 2 Axes>"
      ]
     },
     "metadata": {},
     "output_type": "display_data"
    }
   ],
   "source": [
    "print(f\"Validation Accuracy: {accuracy_score(y_val, y_val_pred)}\")\n",
    "\n",
    "print(f\"Validation Classification Report: \\n {classification_report(y_val, y_val_pred)}\")\n",
    "\n",
    "cm_val = confusion_matrix(y_val, y_val_pred)\n",
    "# Compute ROC curve for validation set\n",
    "false_positive_rate_val, true_positive_rate_val, thresholds_val = roc_curve(y_val, logreg.predict_proba(X_val)[:, 1])\n",
    "\n",
    "# AUC for validation set\n",
    "area_under_curve_for_roc_val = auc(false_positive_rate_val, true_positive_rate_val)\n",
    "\n",
    "# Create subplots\n",
    "fig, axes = plt.subplots(nrows=1, ncols=2, figsize=(10, 5))\n",
    "\n",
    "# Plot confusion matrix on the first axis\n",
    "sns.heatmap(cm_val, annot=True, fmt='g', cmap='Blues', ax=axes[0])\n",
    "axes[0].set_xlabel('Predicted')\n",
    "axes[0].set_ylabel('True')\n",
    "axes[0].set_title('Confusion Matrix for Validation Set')\n",
    "\n",
    "# Plot ROC curve on the second axis\n",
    "axes[1].plot(false_positive_rate_val, true_positive_rate_val, label='Validation ROC curve (area = %0.2f)' % area_under_curve_for_roc_val)\n",
    "axes[1].plot([0, 1], [0, 1], 'k--')\n",
    "axes[1].set_xlim([0.0, 1.0])\n",
    "axes[1].set_ylim([0.0, 1.0])\n",
    "axes[1].set_xlabel('False Positive Rate')\n",
    "axes[1].set_ylabel('True Positive Rate')\n",
    "axes[1].set_title('Receiver Operating Characteristic for Validation Set')\n",
    "axes[1].legend(loc=\"lower right\")\n",
    "\n",
    "plt.tight_layout()\n",
    "plt.show()\n",
    "\n",
    "# Predictions\n",
    "y_pred = logreg.predict(X_test)\n",
    "\n",
    "# Accuracy\n",
    "print(f\"Accuracy: {accuracy_score(y_test, y_pred)}\")\n",
    "\n",
    "# Classification Report\n",
    "print(f\"Classification Report: \\n {classification_report(y_test, y_pred)}\")\n",
    "\n",
    "# Confusion Matrix\n",
    "cm = confusion_matrix(y_test, y_pred)\n",
    "\n",
    "plt.figure(figsize=(3,3))\n",
    "sns.heatmap(cm, annot=True, fmt='g', cmap='Blues')\n",
    "plt.xlabel('Predicted')\n",
    "plt.ylabel('True')\n",
    "plt.show()"
   ]
  },
  {
   "cell_type": "markdown",
   "metadata": {},
   "source": [
    "#### 4.1.2. Support Vector Machines"
   ]
  },
  {
   "cell_type": "code",
   "execution_count": 225,
   "metadata": {},
   "outputs": [
    {
     "name": "stdout",
     "output_type": "stream",
     "text": [
      "Accuracy: 0.8214942528735633\n",
      "Classification Report: \n",
      "               precision    recall  f1-score   support\n",
      "\n",
      "           0       0.80      0.91      0.85      4984\n",
      "           1       0.85      0.70      0.77      3716\n",
      "\n",
      "    accuracy                           0.82      8700\n",
      "   macro avg       0.83      0.81      0.81      8700\n",
      "weighted avg       0.82      0.82      0.82      8700\n",
      "\n",
      "Confusion Matrix: \n",
      " [[4528  456]\n",
      " [1097 2619]]\n"
     ]
    },
    {
     "data": {
      "image/png": "[encoded data removed]",
      "text/plain": [
       "<Figure size 640x480 with 1 Axes>"
      ]
     },
     "metadata": {},
     "output_type": "display_data"
    }
   ],
   "source": [
    "\n",
    "# Initialize SVM model\n",
    "svm_model = SVC(kernel='linear', C=1, random_state=42, probability=True)\n",
    "\n",
    "# Fit the model\n",
    "svm_model.fit(X_train, y_train)\n",
    "\n",
    "# Predictions\n",
    "y_pred = svm_model.predict(X_test)\n",
    "\n",
    "# Model Evaluation\n",
    "print(f\"Accuracy: {accuracy_score(y_test, y_pred)}\")\n",
    "print(f\"Classification Report: \\n {classification_report(y_test, y_pred)}\")\n",
    "print(f\"Confusion Matrix: \\n {confusion_matrix(y_test, y_pred)}\")\n",
    "\n",
    "# Predict probabilities\n",
    "y_prob = svm_model.predict_proba(X_test)[:,1]\n",
    "\n",
    "# Compute ROC curve and AUC\n",
    "false_positive_rate, true_positive_rate, thresholds = roc_curve(y_test, y_prob)\n",
    "area_under_curve = auc(false_positive_rate, true_positive_rate)\n",
    "\n",
    "# Plot ROC curve\n",
    "plt.figure()\n",
    "plt.plot(false_positive_rate, true_positive_rate, color='darkorange', lw=2, label='ROC curve (area = %0.2f)' % area_under_curve)\n",
    "plt.plot([0, 1], [0, 1], color='navy', lw=2, linestyle='--')\n",
    "plt.xlim([0.0, 1.0])\n",
    "plt.ylim([0.0, 1.0])\n",
    "plt.xlabel('False Positive Rate')\n",
    "plt.ylabel('True Positive Rate')\n",
    "plt.title('Receiver Operating Characteristic')\n",
    "plt.legend(loc=\"lower right\")\n",
    "plt.show()"
   ]
  },
  {
   "cell_type": "markdown",
   "metadata": {},
   "source": [
    "### 4.2. With hyperparameter tuning\n",
    "\n",
    "#### 4.2.1. Logistic regression"
   ]
  },
  {
   "cell_type": "code",
   "execution_count": null,
   "metadata": {},
   "outputs": [
    {
     "name": "stdout",
     "output_type": "stream",
     "text": [
      "Fitting 5 folds for each of 40 candidates, totalling 200 fits\n"
     ]
    },
    {
     "name": "stderr",
     "output_type": "stream",
     "text": [
      "/opt/homebrew/anaconda3/envs/ag/lib/python3.10/site-packages/sklearn/linear_model/_sag.py:350: ConvergenceWarning: The max_iter was reached which means the coef_ did not converge\n",
      "  warnings.warn(\n",
      "/opt/homebrew/anaconda3/envs/ag/lib/python3.10/site-packages/sklearn/linear_model/_sag.py:350: ConvergenceWarning: The max_iter was reached which means the coef_ did not converge\n",
      "  warnings.warn(\n",
      "/opt/homebrew/anaconda3/envs/ag/lib/python3.10/site-packages/sklearn/linear_model/_sag.py:350: ConvergenceWarning: The max_iter was reached which means the coef_ did not converge\n",
      "  warnings.warn(\n",
      "/opt/homebrew/anaconda3/envs/ag/lib/python3.10/site-packages/sklearn/linear_model/_sag.py:350: ConvergenceWarning: The max_iter was reached which means the coef_ did not converge\n",
      "  warnings.warn(\n",
      "/opt/homebrew/anaconda3/envs/ag/lib/python3.10/site-packages/sklearn/linear_model/_sag.py:350: ConvergenceWarning: The max_iter was reached which means the coef_ did not converge\n",
      "  warnings.warn(\n",
      "/opt/homebrew/anaconda3/envs/ag/lib/python3.10/site-packages/sklearn/linear_model/_sag.py:350: ConvergenceWarning: The max_iter was reached which means the coef_ did not converge\n",
      "  warnings.warn(\n",
      "/opt/homebrew/anaconda3/envs/ag/lib/python3.10/site-packages/sklearn/linear_model/_sag.py:350: ConvergenceWarning: The max_iter was reached which means the coef_ did not converge\n",
      "  warnings.warn(\n",
      "/opt/homebrew/anaconda3/envs/ag/lib/python3.10/site-packages/sklearn/linear_model/_sag.py:350: ConvergenceWarning: The max_iter was reached which means the coef_ did not converge\n",
      "  warnings.warn(\n",
      "/opt/homebrew/anaconda3/envs/ag/lib/python3.10/site-packages/sklearn/linear_model/_sag.py:350: ConvergenceWarning: The max_iter was reached which means the coef_ did not converge\n",
      "  warnings.warn(\n",
      "/opt/homebrew/anaconda3/envs/ag/lib/python3.10/site-packages/sklearn/linear_model/_sag.py:350: ConvergenceWarning: The max_iter was reached which means the coef_ did not converge\n",
      "  warnings.warn(\n",
      "/opt/homebrew/anaconda3/envs/ag/lib/python3.10/site-packages/sklearn/linear_model/_sag.py:350: ConvergenceWarning: The max_iter was reached which means the coef_ did not converge\n",
      "  warnings.warn(\n",
      "/opt/homebrew/anaconda3/envs/ag/lib/python3.10/site-packages/sklearn/linear_model/_sag.py:350: ConvergenceWarning: The max_iter was reached which means the coef_ did not converge\n",
      "  warnings.warn(\n",
      "/opt/homebrew/anaconda3/envs/ag/lib/python3.10/site-packages/sklearn/linear_model/_sag.py:350: ConvergenceWarning: The max_iter was reached which means the coef_ did not converge\n",
      "  warnings.warn(\n",
      "/opt/homebrew/anaconda3/envs/ag/lib/python3.10/site-packages/sklearn/linear_model/_sag.py:350: ConvergenceWarning: The max_iter was reached which means the coef_ did not converge\n",
      "  warnings.warn(\n",
      "/opt/homebrew/anaconda3/envs/ag/lib/python3.10/site-packages/sklearn/linear_model/_sag.py:350: ConvergenceWarning: The max_iter was reached which means the coef_ did not converge\n",
      "  warnings.warn(\n",
      "/opt/homebrew/anaconda3/envs/ag/lib/python3.10/site-packages/sklearn/linear_model/_sag.py:350: ConvergenceWarning: The max_iter was reached which means the coef_ did not converge\n",
      "  warnings.warn(\n",
      "/opt/homebrew/anaconda3/envs/ag/lib/python3.10/site-packages/sklearn/linear_model/_sag.py:350: ConvergenceWarning: The max_iter was reached which means the coef_ did not converge\n",
      "  warnings.warn(\n",
      "/opt/homebrew/anaconda3/envs/ag/lib/python3.10/site-packages/sklearn/linear_model/_sag.py:350: ConvergenceWarning: The max_iter was reached which means the coef_ did not converge\n",
      "  warnings.warn(\n",
      "/opt/homebrew/anaconda3/envs/ag/lib/python3.10/site-packages/sklearn/linear_model/_sag.py:350: ConvergenceWarning: The max_iter was reached which means the coef_ did not converge\n",
      "  warnings.warn(\n",
      "/opt/homebrew/anaconda3/envs/ag/lib/python3.10/site-packages/sklearn/linear_model/_sag.py:350: ConvergenceWarning: The max_iter was reached which means the coef_ did not converge\n",
      "  warnings.warn(\n",
      "/opt/homebrew/anaconda3/envs/ag/lib/python3.10/site-packages/sklearn/linear_model/_sag.py:350: ConvergenceWarning: The max_iter was reached which means the coef_ did not converge\n",
      "  warnings.warn(\n",
      "/opt/homebrew/anaconda3/envs/ag/lib/python3.10/site-packages/sklearn/linear_model/_sag.py:350: ConvergenceWarning: The max_iter was reached which means the coef_ did not converge\n",
      "  warnings.warn(\n",
      "/opt/homebrew/anaconda3/envs/ag/lib/python3.10/site-packages/sklearn/linear_model/_sag.py:350: ConvergenceWarning: The max_iter was reached which means the coef_ did not converge\n",
      "  warnings.warn(\n",
      "/opt/homebrew/anaconda3/envs/ag/lib/python3.10/site-packages/sklearn/linear_model/_sag.py:350: ConvergenceWarning: The max_iter was reached which means the coef_ did not converge\n",
      "  warnings.warn(\n",
      "/opt/homebrew/anaconda3/envs/ag/lib/python3.10/site-packages/sklearn/linear_model/_sag.py:350: ConvergenceWarning: The max_iter was reached which means the coef_ did not converge\n",
      "  warnings.warn(\n",
      "/opt/homebrew/anaconda3/envs/ag/lib/python3.10/site-packages/sklearn/linear_model/_sag.py:350: ConvergenceWarning: The max_iter was reached which means the coef_ did not converge\n",
      "  warnings.warn(\n",
      "/opt/homebrew/anaconda3/envs/ag/lib/python3.10/site-packages/sklearn/linear_model/_sag.py:350: ConvergenceWarning: The max_iter was reached which means the coef_ did not converge\n",
      "  warnings.warn(\n",
      "/opt/homebrew/anaconda3/envs/ag/lib/python3.10/site-packages/sklearn/linear_model/_sag.py:350: ConvergenceWarning: The max_iter was reached which means the coef_ did not converge\n",
      "  warnings.warn(\n",
      "/opt/homebrew/anaconda3/envs/ag/lib/python3.10/site-packages/sklearn/linear_model/_sag.py:350: ConvergenceWarning: The max_iter was reached which means the coef_ did not converge\n",
      "  warnings.warn(\n",
      "/opt/homebrew/anaconda3/envs/ag/lib/python3.10/site-packages/sklearn/linear_model/_sag.py:350: ConvergenceWarning: The max_iter was reached which means the coef_ did not converge\n",
      "  warnings.warn(\n",
      "/opt/homebrew/anaconda3/envs/ag/lib/python3.10/site-packages/sklearn/linear_model/_sag.py:350: ConvergenceWarning: The max_iter was reached which means the coef_ did not converge\n",
      "  warnings.warn(\n",
      "/opt/homebrew/anaconda3/envs/ag/lib/python3.10/site-packages/sklearn/linear_model/_sag.py:350: ConvergenceWarning: The max_iter was reached which means the coef_ did not converge\n",
      "  warnings.warn(\n"
     ]
    },
    {
     "name": "stdout",
     "output_type": "stream",
     "text": [
      "Best parameters: {'C': 2, 'penalty': 'l2', 'solver': 'liblinear'}\n",
      "Accuracy after GridSearchCV:  0.8468061051441492\n"
     ]
    },
    {
     "name": "stderr",
     "output_type": "stream",
     "text": [
      "/opt/homebrew/anaconda3/envs/ag/lib/python3.10/site-packages/sklearn/linear_model/_sag.py:350: ConvergenceWarning: The max_iter was reached which means the coef_ did not converge\n",
      "  warnings.warn(\n",
      "/opt/homebrew/anaconda3/envs/ag/lib/python3.10/site-packages/sklearn/linear_model/_sag.py:350: ConvergenceWarning: The max_iter was reached which means the coef_ did not converge\n",
      "  warnings.warn(\n",
      "/opt/homebrew/anaconda3/envs/ag/lib/python3.10/site-packages/sklearn/linear_model/_sag.py:350: ConvergenceWarning: The max_iter was reached which means the coef_ did not converge\n",
      "  warnings.warn(\n",
      "/opt/homebrew/anaconda3/envs/ag/lib/python3.10/site-packages/sklearn/linear_model/_sag.py:350: ConvergenceWarning: The max_iter was reached which means the coef_ did not converge\n",
      "  warnings.warn(\n",
      "/opt/homebrew/anaconda3/envs/ag/lib/python3.10/site-packages/sklearn/linear_model/_sag.py:350: ConvergenceWarning: The max_iter was reached which means the coef_ did not converge\n",
      "  warnings.warn(\n"
     ]
    }
   ],
   "source": [
    "\n",
    "# Define hyperparameters and their possible values\n",
    "param_grid = {\n",
    "    'C': [0.001, 0.01, 0.1, 1, 2, 4, 6, 8, 10, 100],\n",
    "    'penalty': ['l1', 'l2'],\n",
    "    'solver': ['liblinear', 'saga']\n",
    "}\n",
    "\n",
    "# Initialize GridSearchCV\n",
    "grid_search = GridSearchCV(LogisticRegression(random_state=42), param_grid, cv=5, n_jobs=-1, verbose=1)\n",
    "\n",
    "# Fit to the training data\n",
    "grid_search.fit(X_train, y_train)\n",
    "\n",
    "# Print the best parameters\n",
    "print(f\"Best parameters: {grid_search.best_params_}\")\n",
    "\n",
    "# Evaluate on the test set\n",
    "y_pred = grid_search.best_estimator_.predict(X_test)\n",
    "print(\"Accuracy after GridSearchCV: \", accuracy_score(y_test, y_pred))\n"
   ]
  },
  {
   "cell_type": "markdown",
   "metadata": {},
   "source": [
    "#### 4.2.2. Support Vector Machines"
   ]
  },
  {
   "cell_type": "code",
   "execution_count": null,
   "metadata": {},
   "outputs": [
    {
     "name": "stdout",
     "output_type": "stream",
     "text": [
      "Fitting 5 folds for each of 40 candidates, totalling 200 fits\n",
      "Best parameters: {'C': 1, 'gamma': 'scale', 'kernel': 'rbf'}\n",
      "Accuracy after GridSearchCV:  0.8434143583945732\n"
     ]
    }
   ],
   "source": [
    "# Define hyperparameters and their possible values\n",
    "param_grid_svm = {\n",
    "    'C': [0.001, 0.01, 0.1, 1, 2, 4, 6, 8, 10, 100],\n",
    "    'kernel': ['linear', 'rbf'],\n",
    "    'gamma': ['scale', 'auto']\n",
    "}\n",
    "\n",
    "# Initialize GridSearchCV\n",
    "grid_search_svm = GridSearchCV(SVC(probability=True, random_state=42), param_grid_svm, cv=5, n_jobs=-1, verbose=1)\n",
    "\n",
    "# Fit to the training data\n",
    "grid_search_svm.fit(X_train, y_train)\n",
    "\n",
    "# Print the best parameters\n",
    "print(f\"Best parameters: {grid_search_svm.best_params_}\")\n",
    "\n",
    "# Evaluate on the test set\n",
    "y_pred_svm = grid_search_svm.best_estimator_.predict(X_test)\n",
    "print(\"Accuracy after GridSearchCV: \", accuracy_score(y_test, y_pred_svm))\n"
   ]
  }
 ],
 "metadata": {
  "kernelspec": {
   "display_name": "base",
   "language": "python",
   "name": "python3"
  },
  "language_info": {
   "codemirror_mode": {
    "name": "ipython",
    "version": 3
   },
   "file_extension": ".py",
   "mimetype": "text/x-python",
   "name": "python",
   "nbconvert_exporter": "python",
   "pygments_lexer": "ipython3",
   "version": "3.10.12"
  },
  "orig_nbformat": 4
 },
 "nbformat": 4,
 "nbformat_minor": 2
}
