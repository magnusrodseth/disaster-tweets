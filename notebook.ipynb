{
 "cells": [
  {
   "cell_type": "code",
   "execution_count": 5,
   "metadata": {},
   "outputs": [
    {
     "data": {
      "text/plain": [
       "<Axes: title={'center': 'choose_one:confidence'}, xlabel='choose_one'>"
      ]
     },
     "execution_count": 5,
     "metadata": {},
     "output_type": "execute_result"
    },
    {
     "data": {
      "image/png": "[encoded data removed]",
      "text/plain": [
       "<Figure size 640x480 with 1 Axes>"
      ]
     },
     "metadata": {},
     "output_type": "display_data"
    }
   ],
   "source": [
    "import pandas as pd\n",
    "\n",
    "df = pd.read_csv('./data/disaster-tweets.csv', encoding='ISO-8859-1')\n",
    "\n",
    "# Plot a boxplot. I want both \"Relevant\" and \"Not Relevant\" from the \"choose_one\" column. For each of them, I want to see the confidence score.\n",
    "df.boxplot(column='choose_one:confidence', by='choose_one')\n"
   ]
  },
  {
   "cell_type": "code",
   "execution_count": null,
   "metadata": {},
   "outputs": [],
   "source": [
    "# Clean some columns\n",
    "\n",
    "# The `keyword` column has some string values like 'airplane%20accident', which should be 'airplane accident'.\n",
    "# We can use `urllib.parse.unquote` to decode the string.\n",
    "from urllib.parse import unquote\n",
    "\n",
    "df['keyword'] = df['keyword'].apply(lambda x: unquote(x) if pd.notnull(x) else x)\n",
    "# Print out all unique values in the `keyword` column\n",
    "print(df['keyword'].unique())\n",
    "\n",
    "columns_to_remove = ['_golden', '_unit_state', 'choose_one_gold']\n",
    "\n",
    "df = df.drop(columns_to_remove, axis=1)\n"
   ]
  },
  {
   "cell_type": "code",
   "execution_count": null,
   "metadata": {},
   "outputs": [],
   "source": [
    "import matplotlib.pyplot as plt\n",
    "\n",
    "# Plot the counts of each classification\n",
    "df['choose_one'].value_counts().plot(kind='bar')\n",
    "plt.title('Distribution of Tweet Classification')\n",
    "plt.xlabel('Classification')\n",
    "plt.ylabel('Number of Tweets')\n",
    "plt.show()"
   ]
  },
  {
   "cell_type": "code",
   "execution_count": null,
   "metadata": {},
   "outputs": [],
   "source": [
    "df['choose_one:confidence'].plot(kind='hist', edgecolor='black', bins=10)\n",
    "plt.title('Histogram of Confidence Scores')\n",
    "plt.xlabel('Confidence Score')\n",
    "plt.ylabel('Number of Tweets')\n",
    "plt.show()"
   ]
  },
  {
   "cell_type": "code",
   "execution_count": null,
   "metadata": {},
   "outputs": [],
   "source": [
    "import seaborn as sns\n",
    "\n",
    "sns.histplot(data=df, x='choose_one:confidence', hue='choose_one', element='step', stat=\"density\", common_norm=False)\n",
    "plt.title('Distribution of Confidence Scores by Classification')\n",
    "plt.show()\n"
   ]
  },
  {
   "cell_type": "code",
   "execution_count": null,
   "metadata": {},
   "outputs": [],
   "source": [
    "# Remove links from the `text` column\n",
    "import re\n",
    "\n",
    "def clean_text(text: str):\n",
    "  text = re.sub(r'https?://\\S+', '', text) # Remove link\n",
    "  text = re.sub(r'\\n',' ', text) # Remove line breaks\n",
    "  text = re.sub('\\s+', ' ', text).strip() # Remove leading, trailing, and extra spaces\n",
    "  return text\n",
    "\n",
    "df['text'] = df['text'].apply(lambda x: clean_text(x))\n",
    "\n",
    "# Remove punctuation from the `text` column\n",
    "import string\n",
    "\n",
    "df['text'] = df['text'].apply(lambda x: x.translate(str.maketrans('', '', string.punctuation)))\n",
    "\n",
    "print(df['text'].head())\n"
   ]
  },
  {
   "cell_type": "code",
   "execution_count": null,
   "metadata": {},
   "outputs": [],
   "source": [
    "from nltk.tokenize import TweetTokenizer\n",
    "tokenizer = TweetTokenizer()\n",
    "\n",
    "# Apply the tokenizer to each row of the 'text' column\n",
    "df['tokens'] = df['text'].apply(\n",
    "    lambda x: [token.lower() for token in tokenizer.tokenize(str(x))])\n",
    "\n",
    "# Print the first five rows of the new column\n",
    "print(df[['text', 'tokens']].head())"
   ]
  },
  {
   "cell_type": "code",
   "execution_count": null,
   "metadata": {},
   "outputs": [],
   "source": [
    "from nltk.corpus import stopwords\n",
    "\n",
    "stop_words = set(stopwords.words('english'))\n",
    "\n",
    "df['tokens_without_stopwords'] = df['tokens'].apply(\n",
    "    lambda x: [word for word in x if word.lower() not in stop_words])\n",
    "\n",
    "print(df[['tokens', 'tokens_without_stopwords']].head())"
   ]
  },
  {
   "cell_type": "code",
   "execution_count": null,
   "metadata": {},
   "outputs": [],
   "source": [
    "from nltk.stem import PorterStemmer\n",
    "stemmer = PorterStemmer()\n",
    "\n",
    "df['stemmed_tokens'] = df['tokens_without_stopwords'].apply(\n",
    "    lambda x: [stemmer.stem(word) for word in x])\n",
    "\n",
    "print(df[['tokens_without_stopwords', 'stemmed_tokens']].head())"
   ]
  },
  {
   "cell_type": "code",
   "execution_count": null,
   "metadata": {},
   "outputs": [],
   "source": [
    "from nltk.stem import WordNetLemmatizer\n",
    "\n",
    "lemmatizer = WordNetLemmatizer()\n",
    "\n",
    "df[\"text_lemmatized\"] = df[\"tokens_without_stopwords\"].apply(lambda x: [lemmatizer.lemmatize(word) for word in x])\n",
    "\n",
    "print(df[['tokens_without_stopwords', 'text_lemmatized']].head())\n"
   ]
  },
  {
   "cell_type": "code",
   "execution_count": null,
   "metadata": {},
   "outputs": [],
   "source": [
    "# Compare the stemmed and lemmatized versions of the first 20 tweets\n",
    "for i in range(5):\n",
    "    print('Original:', df['tokens_without_stopwords'][i])\n",
    "    print('Stemmed:', df['stemmed_tokens'][i])\n",
    "    print('Lemmatized:', df['text_lemmatized'][i])\n",
    "    print()\n",
    "    "
   ]
  },
  {
   "cell_type": "code",
   "execution_count": null,
   "metadata": {},
   "outputs": [],
   "source": [
    "from ekphrasis.classes.preprocessor import TextPreProcessor\n",
    "from ekphrasis.classes.tokenizer import SocialTokenizer\n",
    "from ekphrasis.dicts.emoticons import emoticons\n",
    "\n",
    "text_processor = TextPreProcessor(\n",
    "    # terms that will be normalized\n",
    "    normalize=['url', 'email', 'percent', 'money', 'phone', 'user', 'time', 'url', 'date', 'number'],\n",
    "    # terms that will be annotated\n",
    "    annotate={\"hashtag\", \"allcaps\", \"elongated\", \"repeated\", 'emphasis', 'censored'},\n",
    "    fix_html=True,  # fix HTML tokens  \n",
    "    # corpus from which the word statistics are going to be used \n",
    "    # for word segmentation \n",
    "    segmenter=\"twitter\", \n",
    "    # corpus used for spell correction\n",
    "    corrector=\"twitter\", \n",
    "    unpack_hashtags=True,  # perform word segmentation on hashtags\n",
    "    unpack_contractions=True,  # unpack contractions (can't -> can not)\n",
    "    spell_correct_elong=True,  # spell correction for elongated words\n",
    "    # select a tokenizer. You can use SocialTokenizer, or pass your own\n",
    "    tokenizer=SocialTokenizer(lowercase=True).tokenize,\n",
    "    # list of dictionaries, for replacing tokens extracted from the text,\n",
    "    # with other expressions. You can pass more than one dictionaries.\n",
    "    dicts=[emoticons]\n",
    ")\n",
    "\n",
    "df['cleaned_text'] = df['text'].apply(lambda x: \" \".join(text_processor.pre_process_doc(x)))\n",
    "\n",
    "print(df[['text', 'cleaned_text']].head())"
   ]
  },
  {
   "cell_type": "code",
   "execution_count": null,
   "metadata": {},
   "outputs": [],
   "source": [
    "import re\n",
    "\n",
    "\n",
    "def remove_special_characters_and_numbers(text):\n",
    "    # This pattern matches any character that is NOT a word character (represented by \\W)\n",
    "    # or a whitespace (represented by \\s). Additionally, it matches digits (represented by \\d).\n",
    "    return re.sub(r'[\\W_]+|\\d+', ' ', text)\n",
    "\n",
    "\n",
    "df['cleaned_text'] = df['cleaned_text'].apply(lambda x: remove_special_characters_and_numbers(x))\n",
    "\n",
    "nonimportant_words = ['hashtag', 'allcaps', 'url', 'repeated', 'number']\n",
    "\n",
    "def remove_nonimportant_words(text):\n",
    "    return ' '.join([word for word in text.split() if word not in nonimportant_words])\n",
    "\n",
    "df['cleaned_text'] = df['cleaned_text'].apply(lambda x: remove_nonimportant_words(x))\n",
    "\n",
    "print(df[['text', 'cleaned_text']].head())"
   ]
  },
  {
   "cell_type": "code",
   "execution_count": null,
   "metadata": {},
   "outputs": [],
   "source": [
    "from wordcloud import WordCloud\n",
    "import matplotlib.pyplot as plt\n",
    "\n",
    "# Join all the texts together\n",
    "text = ' '.join(df['cleaned_text'])\n",
    "\n",
    "# Create and display the word cloud\n",
    "wordcloud = WordCloud(width=800, height=800, background_color='white').generate(text)\n",
    "plt.figure(figsize=(10, 8))\n",
    "plt.imshow(wordcloud, interpolation='bilinear')\n",
    "plt.axis('off')\n",
    "plt.show()\n",
    "\n",
    "# Create anddislaya word cloud of the `keyword` column\n",
    "text = ' '.join(df['keyword'].astype(str))\n",
    "\n",
    "wordcloud = WordCloud(width=800, height=800, background_color='white').generate(text)\n",
    "plt.figure(figsize=(10, 8))\n",
    "plt.imshow(wordcloud, interpolation='bilinear')\n",
    "plt.axis('off')\n",
    "plt.show()\n"
   ]
  },
  {
   "cell_type": "code",
   "execution_count": null,
   "metadata": {},
   "outputs": [],
   "source": [
    "from collections import Counter\n",
    "import seaborn as sns\n",
    "\n",
    "# Tokenize and get the word frequency\n",
    "words = ' '.join(df['cleaned_text']).split()\n",
    "frequency = Counter(words)\n",
    "\n",
    "# Select top N words\n",
    "N = 20\n",
    "most_common = frequency.most_common(N)\n",
    "words, counts = zip(*most_common)\n",
    "\n",
    "# Plot\n",
    "plt.figure(figsize=(12, 8))\n",
    "sns.barplot(x=list(counts), y=list(words), palette='viridis')\n",
    "plt.title(f\"Top {N} Most Frequent Words\")\n",
    "plt.xlabel(\"Frequency\")\n",
    "plt.show()\n",
    "\n",
    "# Plot the most common words in the `keyword` column\n",
    "words = ' '.join(df['keyword'].astype(str)).split()\n",
    "frequency = Counter(words)\n",
    "\n",
    "N = 10 \n",
    "most_common = frequency.most_common(N)\n",
    "words, counts = zip(*most_common)\n",
    "\n",
    "plt.figure(figsize=(12, 8))\n",
    "sns.barplot(x=list(counts), y=list(words), palette='viridis')\n",
    "plt.title(f\"Top {N} Most Frequent Keywords\")\n",
    "plt.xlabel(\"Frequency\")\n",
    "plt.show()\n",
    "\n",
    "# Keywords where the `choose_one` column is \"Relevant\"\n",
    "relevant_keywords = df[df['choose_one'] == 'Relevant']['keyword'].astype(str)\n",
    "words = ' '.join(relevant_keywords).split()\n",
    "frequency = Counter(words)\n",
    "\n",
    "N = 10 \n",
    "most_common = frequency.most_common(N)\n",
    "words, counts = zip(*most_common)\n",
    "\n",
    "plt.figure(figsize=(12, 8))\n",
    "sns.barplot(x=list(counts), y=list(words), palette='viridis')\n",
    "plt.title(f\"Top {N} Keywords Where `choose_one` is Relevant\")\n",
    "plt.xlabel(\"Frequency\")\n",
    "plt.show()\n",
    "\n",
    "# Keywords where the `choose_one` column is \"Not Relevant\"\n",
    "nonrelevant_keywords = df[df['choose_one'] == 'Not Relevant']['keyword'].astype(str)\n",
    "words = ' '.join(nonrelevant_keywords).split()\n",
    "frequency = Counter(words)\n",
    "\n",
    "N = 10 \n",
    "most_common = frequency.most_common(N)\n",
    "words, counts = zip(*most_common)\n",
    "\n",
    "plt.figure(figsize=(12, 8))\n",
    "sns.barplot(x=list(counts), y=list(words), palette='viridis')\n",
    "plt.title(f\"Top {N} Keywords Where `choose_one` is Not Relevant\")\n",
    "plt.xlabel(\"Frequency\")\n",
    "plt.show()\n"
   ]
  },
  {
   "cell_type": "code",
   "execution_count": null,
   "metadata": {},
   "outputs": [],
   "source": [
    "df['text_length'] = df['cleaned_text'].apply(len)\n",
    "\n",
    "plt.figure(figsize=(12, 6))\n",
    "plt.hist(df['text_length'], bins=50, color='skyblue', edgecolor='black')\n",
    "plt.title(\"Distribution of Text Lengths\")\n",
    "plt.xlabel(\"Length\")\n",
    "plt.ylabel(\"Number of Texts\")\n",
    "plt.show()\n"
   ]
  },
  {
   "cell_type": "code",
   "execution_count": null,
   "metadata": {},
   "outputs": [],
   "source": [
    "sns.boxplot(data=df, x='choose_one', y='text_length', palette='pastel')\n",
    "plt.title(\"Boxplot of Text Lengths by Category\")\n",
    "plt.show()\n",
    "\n",
    "# This shows us that if a tweet is marked as relevant, it is more likely to be longer than a tweet that is not relevant.\n"
   ]
  },
  {
   "cell_type": "markdown",
   "metadata": {},
   "source": [
    "We now want to check what columns are categorical features. We suspect that `_unit_state`, `choose_one` and `choose_one_gold` may be categorical."
   ]
  },
  {
   "cell_type": "code",
   "execution_count": null,
   "metadata": {},
   "outputs": [],
   "source": [
    "# Visualize each column named above using a bar chart\n",
    "def plot_bar_chart(df, column):\n",
    "    df[column].value_counts().plot(kind='bar')\n",
    "    plt.title(f'Distribution of {column}')\n",
    "    plt.xlabel(column)\n",
    "    plt.ylabel('Number of Tweets')\n",
    "    plt.show()\n",
    "\n",
    "plot_bar_chart(df, '_unit_state')\n",
    "plot_bar_chart(df, 'choose_one')\n",
    "plot_bar_chart(df, 'choose_one_gold')"
   ]
  },
  {
   "cell_type": "markdown",
   "metadata": {},
   "source": [
    "The `choose_one_gold` column seems to be a rare occurrence. Perhaps we should drop it. Rather, we'll perhaps stick to `choose_one`. "
   ]
  },
  {
   "cell_type": "code",
   "execution_count": null,
   "metadata": {},
   "outputs": [],
   "source": [
    "# Select non-numeric columns\n",
    "non_numeric_columns = df.select_dtypes(include=['object']).columns.tolist()\n",
    "\n",
    "# Initialize empty list for potential categorical columns\n",
    "potential_categorical_columns = []\n",
    "\n",
    "# Iterate over non-numeric columns\n",
    "for col in non_numeric_columns:\n",
    "    try:\n",
    "        # If unique values are less than 5% of total rows, consider the column as categorical\n",
    "        if df[col].nunique() / len(df) < 0.05:\n",
    "            potential_categorical_columns.append(col)\n",
    "    except TypeError:\n",
    "        # This will catch columns that cause the TypeError (e.g., columns with list-type values)\n",
    "        # You can either skip these columns or handle them differently\n",
    "        pass\n",
    "\n",
    "print(potential_categorical_columns)"
   ]
  },
  {
   "cell_type": "code",
   "execution_count": null,
   "metadata": {},
   "outputs": [],
   "source": [
    "import pandas as pd\n",
    "\n",
    "# Use get_dummies to perform one-hot encoding on the 'choose_one' column\n",
    "df = pd.get_dummies(df, columns=['choose_one'], prefix=['choose_one'])\n",
    "\n",
    "# The dataframe df now has new columns corresponding to the unique values in the 'choose_one' column\n",
    "# Each new column will be named \"choose_one_<value_from_choose_one_column>\"\n",
    "\n",
    "# Print the head of all column containing the prefix 'choose_one'\n",
    "print(df.filter(regex='choose_one').head())"
   ]
  },
  {
   "cell_type": "markdown",
   "metadata": {},
   "source": [
    "We assume the following: Regarding `_trusted_judgements`, the `_trusted_judgments` column likely refers to the number of trusted evaluators or annotators who have judged or labeled the content of the tweet. Higher numbers in this column might suggest greater consensus or confidence in the label assigned to a particular tweet, since more individuals have weighed in on its content. Conversely, a lower number could mean fewer judgments, and potentially less certainty in the label, especially if there's disagreement among annotators.\n",
    "\n",
    "In order to know if we should standardize or normalize the `_trusted_judgements` column, we need to know the distribution of the values in the column.\n"
   ]
  },
  {
   "cell_type": "code",
   "execution_count": null,
   "metadata": {},
   "outputs": [],
   "source": [
    "# Check if the range of `_trusted_judgments` is very wide\n",
    "print(df['_trusted_judgments'].describe())\n",
    "\n",
    "# Plot the distribution of `_trusted_judgments`\n",
    "plt.hist(df['_trusted_judgments'], bins=10, edgecolor='black')\n",
    "plt.title(\"Distribution of _trusted_judgments\")\n",
    "plt.xlabel(\"_trusted_judgments\")\n",
    "plt.ylabel(\"Number of Tweets\")\n",
    "plt.show()\n",
    "\n",
    "# Only plot in the range of 0 to 20\n",
    "plt.hist(df['_trusted_judgments'], bins=10, range=(0, 20), edgecolor='black')\n",
    "plt.title(\"Distribution of _trusted_judgments\")\n",
    "plt.xlabel(\"_trusted_judgments\")\n",
    "plt.ylabel(\"Number of Tweets\")\n",
    "plt.show()"
   ]
  },
  {
   "cell_type": "markdown",
   "metadata": {},
   "source": [
    "We can visually see, and confirmed by the cell above, that most tweets have a `_trusted_judgements` value of 5. We can also see that the distribution is skewed a bit to the right."
   ]
  },
  {
   "cell_type": "code",
   "execution_count": null,
   "metadata": {},
   "outputs": [],
   "source": [
    "from sklearn.preprocessing import StandardScaler, MinMaxScaler\n",
    "\n",
    "# Standardizing _trusted_judgments\n",
    "scaler = StandardScaler()\n",
    "df['_trusted_judgments_standardized'] = scaler.fit_transform(\n",
    "    df['_trusted_judgments'].values.reshape(-1, 1))\n",
    "\n",
    "# Normalizing _trusted_judgments\n",
    "scaler = MinMaxScaler()\n",
    "df['_trusted_judgments_normalized'] = scaler.fit_transform(\n",
    "    df['_trusted_judgments'].values.reshape(-1, 1))\n",
    "\n",
    "# Print the normalized and standardized columns\n",
    "print(df[['_trusted_judgments_standardized', '_trusted_judgments_normalized']].head())\n"
   ]
  },
  {
   "cell_type": "markdown",
   "metadata": {},
   "source": [
    "It might be interesting to check if there's a correlation between the number of `_trusted_judgments` (normalized) and the `choose_one:confidence` column. Intuitively, tweets with more judgments might be expected to have higher confidence scores, indicating consensus among annotators."
   ]
  },
  {
   "cell_type": "code",
   "execution_count": null,
   "metadata": {},
   "outputs": [],
   "source": [
    "# Check the correlation between `_trusted_judgments_normalized` and `choose_one:confidence`\n",
    "print(df['_trusted_judgments_normalized'].corr(df['choose_one:confidence']))\n",
    "\n",
    "# Visualize the relationship between `_trusted_judgments_normalized` and `choose_one:confidence`\n",
    "plt.scatter(df['_trusted_judgments_normalized'], df['choose_one:confidence'])\n",
    "plt.title(\"Relationship between _trusted_judgments_normalized and choose_one:confidence\")\n",
    "plt.xlabel(\"_trusted_judgments_normalized\")\n",
    "plt.ylabel(\"choose_one:confidence\")\n",
    "plt.show()"
   ]
  },
  {
   "cell_type": "markdown",
   "metadata": {},
   "source": [
    "Based on the plot above, we can see that tweets with a high normalized `_trusted_judgements` value tend to have higher confidence scores. This suggests that there is some correlation between the two variables. However, perhaps we should remove some data with a very low `_trusted_judgements` value (e.g. `< 0.1`), since the confidence scores for these tweets are all over the place. This may distort the correlation."
   ]
  },
  {
   "cell_type": "code",
   "execution_count": null,
   "metadata": {},
   "outputs": [],
   "source": [
    "# Remove data with a `_trusted_judgements_normalized` value lower than 0.1\n",
    "df = df[df['_trusted_judgments_normalized'] > 0.1]\n",
    "\n",
    "# Check the correlation between `_trusted_judgments_normalized` and `choose_one:confidence` again\n",
    "print(df['_trusted_judgments_normalized'].corr(df['choose_one:confidence']))\n",
    "\n",
    "# Plot the same scatterplot again\n",
    "plt.scatter(df['_trusted_judgments_normalized'], df['choose_one:confidence'])\n",
    "plt.title(\"Relationship between _trusted_judgments_normalized and choose_one:confidence\")\n",
    "plt.xlabel(\"_trusted_judgments_normalized\")\n",
    "plt.ylabel(\"choose_one:confidence\")\n",
    "plt.show()\n",
    "\n",
    "# Heatmap of the same columns\n",
    "sns.heatmap(df[['_trusted_judgments_normalized', 'choose_one:confidence']].corr(), annot=True)\n",
    "plt.title(\"Correlation Heatmap\")\n",
    "plt.show()\n"
   ]
  },
  {
   "cell_type": "code",
   "execution_count": null,
   "metadata": {},
   "outputs": [],
   "source": [
    "# Inspect the `_trusted_judgments_standardized` column\n",
    "print(df['_trusted_judgments_standardized'].describe())\n",
    "print(\"----------\")\n",
    "\n",
    "# Check if any z-score in the `_trusted_judgments_standardized` column is unusually high or low\n",
    "print(df['_trusted_judgments_standardized'].abs().sort_values(ascending=False).head(10))\n",
    "print(\"----------\")\n",
    "\n",
    "# Check which tweets deserved the unusually high or low z-scores. Include the full `text` column.\n",
    "print([\n",
    "    df['text'].iloc[\n",
    "      # Get the index of the top 10 highest and lowest z-scores\n",
    "      df['_trusted_judgments_standardized'].abs().sort_values(ascending=False).head(10).index\n",
    "    ]\n",
    "])\n",
    "print(\"----------\")"
   ]
  },
  {
   "cell_type": "code",
   "execution_count": null,
   "metadata": {},
   "outputs": [],
   "source": [
    "# Create a boxplot for the `_trusted_judgments_standardized` column\n",
    "plt.boxplot(df['_trusted_judgments_standardized'])\n",
    "plt.title(\"Boxplot of _trusted_judgments_standardized\")\n",
    "plt.show()\n",
    "\n",
    "# Create a boxplot of the `choose_one:confidence` column\n",
    "plt.boxplot(df['choose_one:confidence'])\n",
    "plt.title(\"Boxplot of choose_one:confidence\")\n",
    "plt.show()\n",
    "\n",
    "# Describe the `choose_one:confidence` column\n",
    "print(df['choose_one:confidence'].describe())\n"
   ]
  },
  {
   "cell_type": "code",
   "execution_count": null,
   "metadata": {},
   "outputs": [],
   "source": [
    "# Check the tweets with a `choose_one:confidence` value below 0.9. Display the full `text` column.\n",
    "pd.set_option('display.max_colwidth', None)\n",
    "print(df[df['choose_one:confidence'] < 0.9]['text'])"
   ]
  },
  {
   "cell_type": "markdown",
   "metadata": {},
   "source": [
    "As we can see from the boxplot of outliers and the actual tweets with confidence below 0.9, there are still many tweets that concern a disaster that have a lower confidence score.\n",
    "\n",
    "From the box plot for the `choose_one:confidence` column, we can draw several insights:\n",
    "\n",
    "**Median:**\n",
    "\n",
    "- The median value is 1. This indicates that half of the values in the choose_one:confidence column are at 1, and the other half are below 1. Given the nature of confidence scores, this likely indicates that many of the judgments are made with full confidence.\n",
    "\n",
    "**First Quartile (Q1) and Third Quartile (Q3):**\n",
    "\n",
    "- Lower quartile (Q1) at about 0.95: About 25% of the data points have confidence values below 0.95.\n",
    "- Upper quartile (Q3) at 1: About 75% of the data points have confidence values below 1, which is also the median. \n",
    "- This indicates that the majority of the data points (from the median to the upper quartile) have the maximum confidence value of 1.\n",
    "\n",
    "**Minimum:**\n",
    "\n",
    "- The smallest non-outlier value is 0.90. This is the lowest confidence value that is not considered an outlier.\n",
    "\n",
    "**Outliers:**\n",
    "\n",
    "- The many small dots from 0.60 up to 0.90 represent the outliers in our dataset. These are individual observations that fall far from the rest of the data, below the minimum value. The presence of many dots suggests that there are several data points with confidence levels significantly lower than the majority of the dataset."
   ]
  }
 ],
 "metadata": {
  "kernelspec": {
   "display_name": "base",
   "language": "python",
   "name": "python3"
  },
  "language_info": {
   "codemirror_mode": {
    "name": "ipython",
    "version": 3
   },
   "file_extension": ".py",
   "mimetype": "text/x-python",
   "name": "python",
   "nbconvert_exporter": "python",
   "pygments_lexer": "ipython3",
   "version": "3.11.4"
  },
  "orig_nbformat": 4
 },
 "nbformat": 4,
 "nbformat_minor": 2
}
